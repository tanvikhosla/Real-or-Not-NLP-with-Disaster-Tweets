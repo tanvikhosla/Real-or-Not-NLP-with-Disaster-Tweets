{
  "nbformat": 4,
  "nbformat_minor": 0,
  "metadata": {
    "colab": {
      "name": "Untitled7.ipynb",
      "provenance": [],
      "collapsed_sections": []
    },
    "kernelspec": {
      "name": "python3",
      "display_name": "Python 3"
    }
  },
  "cells": [
    {
      "cell_type": "markdown",
      "metadata": {
        "id": "Cfh70qfTMPZu",
        "colab_type": "text"
      },
      "source": [
        "# Importing Libraries"
      ]
    },
    {
      "cell_type": "code",
      "metadata": {
        "id": "9sDqUq9rLxnY",
        "colab_type": "code",
        "colab": {}
      },
      "source": [
        "import warnings\n",
        "warnings.filterwarnings('ignore')"
      ],
      "execution_count": 0,
      "outputs": []
    },
    {
      "cell_type": "code",
      "metadata": {
        "id": "MINNIASeMfQI",
        "colab_type": "code",
        "colab": {}
      },
      "source": [
        "import pandas as pd\n",
        "import numpy as np\n",
        "import string \n",
        "import re"
      ],
      "execution_count": 0,
      "outputs": []
    },
    {
      "cell_type": "code",
      "metadata": {
        "id": "7jDNL6IwMkjI",
        "colab_type": "code",
        "colab": {}
      },
      "source": [
        "import seaborn as sns\n",
        "import matplotlib.pyplot as plt\n",
        "% matplotlib inline"
      ],
      "execution_count": 0,
      "outputs": []
    },
    {
      "cell_type": "code",
      "metadata": {
        "id": "IqTgC9ZuMpjW",
        "colab_type": "code",
        "outputId": "3d848459-54c6-4634-bdac-d20067275409",
        "colab": {
          "base_uri": "https://localhost:8080/",
          "height": 119
        }
      },
      "source": [
        "import nltk\n",
        "nltk.download('wordnet')\n",
        "nltk.download('punkt')\n",
        "nltk.download('stopwords')\n",
        "from nltk.stem import WordNetLemmatizer\n",
        "lemmatizer=WordNetLemmatizer()\n",
        "from nltk.stem import PorterStemmer\n",
        "ps = PorterStemmer()\n",
        "from nltk.corpus import stopwords\n",
        "from nltk.tokenize.treebank import TreebankWordTokenizer\n",
        "tokenizer=TreebankWordTokenizer()"
      ],
      "execution_count": 288,
      "outputs": [
        {
          "output_type": "stream",
          "text": [
            "[nltk_data] Downloading package wordnet to /root/nltk_data...\n",
            "[nltk_data]   Package wordnet is already up-to-date!\n",
            "[nltk_data] Downloading package punkt to /root/nltk_data...\n",
            "[nltk_data]   Package punkt is already up-to-date!\n",
            "[nltk_data] Downloading package stopwords to /root/nltk_data...\n",
            "[nltk_data]   Package stopwords is already up-to-date!\n"
          ],
          "name": "stdout"
        }
      ]
    },
    {
      "cell_type": "code",
      "metadata": {
        "id": "iiKc42kbM8EZ",
        "colab_type": "code",
        "colab": {}
      },
      "source": [
        "from sklearn.feature_extraction.text import TfidfVectorizer\n",
        "from sklearn.feature_extraction.text import CountVectorizer"
      ],
      "execution_count": 0,
      "outputs": []
    },
    {
      "cell_type": "code",
      "metadata": {
        "id": "7ayyL-p_sdUg",
        "colab_type": "code",
        "colab": {}
      },
      "source": [
        "from sklearn.metrics import classification_report, confusion_matrix\n",
        "from sklearn.metrics import accuracy_score,recall_score,precision_score,classification_report, balanced_accuracy_score,f1_score"
      ],
      "execution_count": 0,
      "outputs": []
    },
    {
      "cell_type": "code",
      "metadata": {
        "id": "qGdMbU12sh26",
        "colab_type": "code",
        "colab": {}
      },
      "source": [
        "from sklearn.tree import DecisionTreeClassifier\n",
        "from sklearn.ensemble import RandomForestClassifier\n",
        "from sklearn.naive_bayes import MultinomialNB\n",
        "from sklearn.linear_model import LogisticRegression\n",
        "from sklearn.svm import SVC"
      ],
      "execution_count": 0,
      "outputs": []
    },
    {
      "cell_type": "code",
      "metadata": {
        "id": "3Y2N2JCesqNR",
        "colab_type": "code",
        "colab": {}
      },
      "source": [
        "from sklearn.model_selection import RandomizedSearchCV\n",
        "from sklearn.model_selection import GridSearchCV, cross_val_score"
      ],
      "execution_count": 0,
      "outputs": []
    },
    {
      "cell_type": "code",
      "metadata": {
        "id": "SWC9ngK9sYNC",
        "colab_type": "code",
        "colab": {}
      },
      "source": [
        "from sklearn.model_selection import train_test_split"
      ],
      "execution_count": 0,
      "outputs": []
    },
    {
      "cell_type": "markdown",
      "metadata": {
        "id": "5Ck2flg2NEpV",
        "colab_type": "text"
      },
      "source": [
        "# Data"
      ]
    },
    {
      "cell_type": "code",
      "metadata": {
        "id": "dUzLc6eJNLGO",
        "colab_type": "code",
        "colab": {}
      },
      "source": [
        "train=pd.read_csv(\"train.csv\")\n",
        "test=pd.read_csv(\"test.csv\")\n",
        "train_copy=train.copy()\n",
        "test_copy=test.copy()"
      ],
      "execution_count": 0,
      "outputs": []
    },
    {
      "cell_type": "markdown",
      "metadata": {
        "id": "jleLTaDJDP-o",
        "colab_type": "text"
      },
      "source": [
        "#Visualising Data\n"
      ]
    },
    {
      "cell_type": "markdown",
      "metadata": {
        "id": "VRn9lpKaz2fT",
        "colab_type": "text"
      },
      "source": [
        "id - a unique identifier for each tweet.                      \n",
        "text - the text of the tweet                                 \n",
        "location - the location the tweet was sent from (may be blank)                                                        \n",
        "keyword - a particular keyword from the tweet (may be blank).                                                            \n",
        "target -  this denotes whether a tweet is about a real disaster (1) or not (0)"
      ]
    },
    {
      "cell_type": "code",
      "metadata": {
        "id": "gMC7apS5DRxa",
        "colab_type": "code",
        "colab": {
          "base_uri": "https://localhost:8080/",
          "height": 51
        },
        "outputId": "8cc972d2-8420-4664-c511-f5ebdd0e987d"
      },
      "source": [
        "print(\"train shape :\",train.shape)\n",
        "print(\"test shape :\",test.shape)"
      ],
      "execution_count": 295,
      "outputs": [
        {
          "output_type": "stream",
          "text": [
            "train shape : (7613, 5)\n",
            "test shape : (3263, 4)\n"
          ],
          "name": "stdout"
        }
      ]
    },
    {
      "cell_type": "markdown",
      "metadata": {
        "id": "IETFOJUSGPcw",
        "colab_type": "text"
      },
      "source": [
        "Null values"
      ]
    },
    {
      "cell_type": "code",
      "metadata": {
        "id": "kAqhsd_M0SfO",
        "colab_type": "code",
        "outputId": "c2fd622f-a94d-449b-c3d2-cf05aa1bf063",
        "colab": {
          "base_uri": "https://localhost:8080/",
          "height": 255
        }
      },
      "source": [
        "print(\"null values in train dataset :\\n\",train.isnull().sum())\n",
        "print(\"-----------------\")\n",
        "print(\"null values in test dataset :\\n\",test.isnull().sum())"
      ],
      "execution_count": 296,
      "outputs": [
        {
          "output_type": "stream",
          "text": [
            "null values in train dataset :\n",
            " id             0\n",
            "keyword       61\n",
            "location    2533\n",
            "text           0\n",
            "target         0\n",
            "dtype: int64\n",
            "-----------------\n",
            "null values in test dataset :\n",
            " id             0\n",
            "keyword       26\n",
            "location    1105\n",
            "text           0\n",
            "dtype: int64\n"
          ],
          "name": "stdout"
        }
      ]
    },
    {
      "cell_type": "markdown",
      "metadata": {
        "id": "4Z0r-sz1GDP3",
        "colab_type": "text"
      },
      "source": [
        "Target "
      ]
    },
    {
      "cell_type": "code",
      "metadata": {
        "id": "skyJ-F35FjFe",
        "colab_type": "code",
        "colab": {
          "base_uri": "https://localhost:8080/",
          "height": 364
        },
        "outputId": "2b0d1e2f-f51c-4a4c-c58f-cae82613488a"
      },
      "source": [
        "print(\"target : 0 = Not a Disaster, 1 = Disaster\")\n",
        "print(train[\"target\"].value_counts())\n",
        "sns.countplot(x=\"target\",data=train,palette='ocean',alpha=0.7)"
      ],
      "execution_count": 297,
      "outputs": [
        {
          "output_type": "stream",
          "text": [
            "target : 0 = Not a Disaster, 1 = Disaster\n",
            "0    4342\n",
            "1    3271\n",
            "Name: target, dtype: int64\n"
          ],
          "name": "stdout"
        },
        {
          "output_type": "execute_result",
          "data": {
            "text/plain": [
              "<matplotlib.axes._subplots.AxesSubplot at 0x7f68acf43ac8>"
            ]
          },
          "metadata": {
            "tags": []
          },
          "execution_count": 297
        },
        {
          "output_type": "display_data",
          "data": {
            "image/png": "[encoded data removed]",
            "text/plain": [
              "<Figure size 432x288 with 1 Axes>"
            ]
          },
          "metadata": {
            "tags": [],
            "needs_background": "light"
          }
        }
      ]
    },
    {
      "cell_type": "markdown",
      "metadata": {
        "id": "6OliSHeRGHNG",
        "colab_type": "text"
      },
      "source": [
        "Keyword"
      ]
    },
    {
      "cell_type": "code",
      "metadata": {
        "id": "2J3FAFmlGI7_",
        "colab_type": "code",
        "colab": {
          "base_uri": "https://localhost:8080/",
          "height": 51
        },
        "outputId": "c9ba5235-3680-4472-efdc-4a875c830d7b"
      },
      "source": [
        "print ('Unique keywords in train: ', train.keyword.nunique())\n",
        "print ('Unique keywords in test: ', test.keyword.nunique())"
      ],
      "execution_count": 298,
      "outputs": [
        {
          "output_type": "stream",
          "text": [
            "Unique keywords in train:  221\n",
            "Unique keywords in test:  221\n"
          ],
          "name": "stdout"
        }
      ]
    },
    {
      "cell_type": "code",
      "metadata": {
        "id": "ijAhRkMhHVEC",
        "colab_type": "code",
        "colab": {
          "base_uri": "https://localhost:8080/",
          "height": 34
        },
        "outputId": "6f7aef03-1aa3-497d-d8b8-93c24b6c9137"
      },
      "source": [
        "set_difference = set(train.keyword.unique()) - set(test.keyword.unique())\n",
        "set_difference"
      ],
      "execution_count": 299,
      "outputs": [
        {
          "output_type": "execute_result",
          "data": {
            "text/plain": [
              "set()"
            ]
          },
          "metadata": {
            "tags": []
          },
          "execution_count": 299
        }
      ]
    },
    {
      "cell_type": "markdown",
      "metadata": {
        "id": "4yE8jrJyHfeJ",
        "colab_type": "text"
      },
      "source": [
        "Hence all keywords in the train and test data are the same."
      ]
    },
    {
      "cell_type": "code",
      "metadata": {
        "id": "osrVgBE8O_Yk",
        "colab_type": "code",
        "colab": {
          "base_uri": "https://localhost:8080/",
          "height": 400
        },
        "outputId": "d7f34485-2bb6-4d8a-d5e9-12cf9e4fd9a9"
      },
      "source": [
        "train_key=train.keyword.value_counts()[:10]\n",
        "plt.figure(figsize=(10,5))\n",
        "plt.xticks(rotation=45)\n",
        "plt.title(\"Most frequent keywords in the train dataset\")\n",
        "sns.barplot(train_key.index,train_key.values,palette=\"ocean\",alpha=0.8)"
      ],
      "execution_count": 300,
      "outputs": [
        {
          "output_type": "execute_result",
          "data": {
            "text/plain": [
              "<matplotlib.axes._subplots.AxesSubplot at 0x7f68ad623ba8>"
            ]
          },
          "metadata": {
            "tags": []
          },
          "execution_count": 300
        },
        {
          "output_type": "display_data",
          "data": {
            "image/png": "[encoded data removed]",
            "text/plain": [
              "<Figure size 720x360 with 1 Axes>"
            ]
          },
          "metadata": {
            "tags": [],
            "needs_background": "light"
          }
        }
      ]
    },
    {
      "cell_type": "code",
      "metadata": {
        "id": "l9qjDmJUTqqJ",
        "colab_type": "code",
        "colab": {}
      },
      "source": [
        "disaster=train.loc[train[\"target\"]==1]\n",
        "not_a_disaster=train.loc[train[\"target\"]==0]"
      ],
      "execution_count": 0,
      "outputs": []
    },
    {
      "cell_type": "code",
      "metadata": {
        "id": "uKmkV4QmTuxM",
        "colab_type": "code",
        "colab": {
          "base_uri": "https://localhost:8080/",
          "height": 421
        },
        "outputId": "15c22950-7d9b-4d59-f240-fe28beba8398"
      },
      "source": [
        "disaster_key=disaster.keyword.value_counts()[:10]\n",
        "plt.figure(figsize=(10,5))\n",
        "plt.xticks(rotation=45)\n",
        "plt.title(\"Most frequent keywords for a disaster\")\n",
        "sns.barplot(disaster_key.index,disaster_key.values,palette=\"RdBu_r\")"
      ],
      "execution_count": 302,
      "outputs": [
        {
          "output_type": "execute_result",
          "data": {
            "text/plain": [
              "<matplotlib.axes._subplots.AxesSubplot at 0x7f68acf74a90>"
            ]
          },
          "metadata": {
            "tags": []
          },
          "execution_count": 302
        },
        {
          "output_type": "display_data",
          "data": {
            "image/png": "[encoded data removed]",
            "text/plain": [
              "<Figure size 720x360 with 1 Axes>"
            ]
          },
          "metadata": {
            "tags": [],
            "needs_background": "light"
          }
        }
      ]
    },
    {
      "cell_type": "code",
      "metadata": {
        "id": "CGTayRPJUJx1",
        "colab_type": "code",
        "colab": {
          "base_uri": "https://localhost:8080/",
          "height": 400
        },
        "outputId": "d4aeb296-21f6-4200-d883-7ab7379b1ccb"
      },
      "source": [
        "nondisaster_key=not_a_disaster.keyword.value_counts()[:10]\n",
        "plt.figure(figsize=(10,5))\n",
        "plt.xticks(rotation=45)\n",
        "plt.title(\"Most frequent keywords for a disaster\")\n",
        "sns.barplot(nondisaster_key.index,nondisaster_key.values,palette=\"BuGn_r\")"
      ],
      "execution_count": 303,
      "outputs": [
        {
          "output_type": "execute_result",
          "data": {
            "text/plain": [
              "<matplotlib.axes._subplots.AxesSubplot at 0x7f68ab4f1cc0>"
            ]
          },
          "metadata": {
            "tags": []
          },
          "execution_count": 303
        },
        {
          "output_type": "display_data",
          "data": {
            "image/png": "[encoded data removed]",
            "text/plain": [
              "<Figure size 720x360 with 1 Axes>"
            ]
          },
          "metadata": {
            "tags": [],
            "needs_background": "light"
          }
        }
      ]
    },
    {
      "cell_type": "markdown",
      "metadata": {
        "id": "-u-m8wHLVxIq",
        "colab_type": "text"
      },
      "source": [
        "Location"
      ]
    },
    {
      "cell_type": "code",
      "metadata": {
        "id": "Rlr8OGw5O8bR",
        "colab_type": "code",
        "colab": {
          "base_uri": "https://localhost:8080/",
          "height": 406
        },
        "outputId": "b60f9607-aa72-4f64-c85e-234a45c81baf"
      },
      "source": [
        "disaster_loc=disaster.location.value_counts()[:10]\n",
        "plt.figure(figsize=(10,5))\n",
        "plt.xticks(rotation=45)\n",
        "plt.title(\"Most frequent locations in the disaster dataset\")\n",
        "sns.barplot(disaster_loc.index,disaster_loc.values,palette=\"YlGnBu_r\")"
      ],
      "execution_count": 304,
      "outputs": [
        {
          "output_type": "execute_result",
          "data": {
            "text/plain": [
              "<matplotlib.axes._subplots.AxesSubplot at 0x7f68ad0e46a0>"
            ]
          },
          "metadata": {
            "tags": []
          },
          "execution_count": 304
        },
        {
          "output_type": "display_data",
          "data": {
            "image/png": "[encoded data removed]",
            "text/plain": [
              "<Figure size 720x360 with 1 Axes>"
            ]
          },
          "metadata": {
            "tags": [],
            "needs_background": "light"
          }
        }
      ]
    },
    {
      "cell_type": "code",
      "metadata": {
        "id": "yIX6xSMFWeBB",
        "colab_type": "code",
        "colab": {
          "base_uri": "https://localhost:8080/",
          "height": 406
        },
        "outputId": "d3283c25-7b96-462a-97aa-ff9d6bf59d1b"
      },
      "source": [
        "nondisaster_loc=not_a_disaster.location.value_counts()[:10]\n",
        "plt.figure(figsize=(10,5))\n",
        "plt.xticks(rotation=45)\n",
        "plt.title(\"Most frequent locations in the not_a_disaster dataset\")\n",
        "sns.barplot(nondisaster_loc.index,nondisaster_loc.values,palette=\"ocean\")"
      ],
      "execution_count": 305,
      "outputs": [
        {
          "output_type": "execute_result",
          "data": {
            "text/plain": [
              "<matplotlib.axes._subplots.AxesSubplot at 0x7f68aa236b38>"
            ]
          },
          "metadata": {
            "tags": []
          },
          "execution_count": 305
        },
        {
          "output_type": "display_data",
          "data": {
            "image/png": "[encoded data removed]",
            "text/plain": [
              "<Figure size 720x360 with 1 Axes>"
            ]
          },
          "metadata": {
            "tags": [],
            "needs_background": "light"
          }
        }
      ]
    },
    {
      "cell_type": "markdown",
      "metadata": {
        "id": "t2bWsVmnM-Nh",
        "colab_type": "text"
      },
      "source": [
        "# Data Cleaning"
      ]
    },
    {
      "cell_type": "markdown",
      "metadata": {
        "id": "76FnezhUNWpG",
        "colab_type": "text"
      },
      "source": [
        "Let's fill missing values in train and test data with \" \" for now."
      ]
    },
    {
      "cell_type": "code",
      "metadata": {
        "id": "C2ARMpLFXYm4",
        "colab_type": "code",
        "colab": {}
      },
      "source": [
        "train = train.fillna('')\n",
        "test = test.fillna('')"
      ],
      "execution_count": 0,
      "outputs": []
    },
    {
      "cell_type": "markdown",
      "metadata": {
        "id": "LoIgWHk2NrFL",
        "colab_type": "text"
      },
      "source": [
        "The first round of data cleaning is removing any emojis"
      ]
    },
    {
      "cell_type": "code",
      "metadata": {
        "id": "JZbXpflTX2cx",
        "colab_type": "code",
        "colab": {}
      },
      "source": [
        "def clean1(text):\n",
        "    emoji_pattern = re.compile(\"[\"\n",
        "                           u\"\\U0001F600-\\U0001F64F\"  # emoticons\n",
        "                           u\"\\U0001F300-\\U0001F5FF\"  # symbols & pictographs\n",
        "                           u\"\\U0001F680-\\U0001F6FF\"  # transport & map symbols\n",
        "                           u\"\\U0001F1E0-\\U0001F1FF\"  # flags (iOS)\n",
        "                           u\"\\U00002702-\\U000027B0\"\n",
        "                           u\"\\U000024C2-\\U0001F251\"\n",
        "                           \"]+\", flags=re.UNICODE)\n",
        "    return emoji_pattern.sub(r'', text)"
      ],
      "execution_count": 0,
      "outputs": []
    },
    {
      "cell_type": "code",
      "metadata": {
        "id": "ZiUlgV_-YEOW",
        "colab_type": "code",
        "colab": {}
      },
      "source": [
        "train[\"text\"]=train[\"text\"].apply(lambda x: clean1(x))\n",
        "test[\"text\"]=test[\"text\"].apply(lambda x: clean1(x))"
      ],
      "execution_count": 0,
      "outputs": []
    },
    {
      "cell_type": "markdown",
      "metadata": {
        "id": "5Lb7xHt1aCzd",
        "colab_type": "text"
      },
      "source": [
        "Second round of cleaning is removing links , hashtags and mentions/usernames."
      ]
    },
    {
      "cell_type": "code",
      "metadata": {
        "id": "1Fh6vyb8aUY4",
        "colab_type": "code",
        "colab": {}
      },
      "source": [
        "def clean2(string):\n",
        "  tweet=string.lower()\n",
        "  tweet=re.sub(r\"https?\\S+\",\" \",tweet)\n",
        "  tweet=re.sub(\"#\",\" \",tweet)\n",
        "  tweet=re.sub(r\"^@\\w+\",\" \",tweet)\n",
        "  return tweet"
      ],
      "execution_count": 0,
      "outputs": []
    },
    {
      "cell_type": "code",
      "metadata": {
        "id": "Rv6cvUrcawCF",
        "colab_type": "code",
        "colab": {}
      },
      "source": [
        "train[\"text\"]=train[\"text\"].apply(lambda x: clean2(x))\n",
        "test[\"text\"]=test[\"text\"].apply(lambda x: clean2(x))"
      ],
      "execution_count": 0,
      "outputs": []
    },
    {
      "cell_type": "markdown",
      "metadata": {
        "id": "XlxcKSpjcT_M",
        "colab_type": "text"
      },
      "source": [
        "using the TreeBankWordTokenizer"
      ]
    },
    {
      "cell_type": "code",
      "metadata": {
        "id": "NHGMTcU4cJ96",
        "colab_type": "code",
        "colab": {}
      },
      "source": [
        "train[\"text\"]=train[\"text\"].apply(lambda x: tokenizer.tokenize(x))\n",
        "test[\"text\"]=test[\"text\"].apply(lambda x: tokenizer.tokenize(x))"
      ],
      "execution_count": 0,
      "outputs": []
    },
    {
      "cell_type": "code",
      "metadata": {
        "id": "sfnxEyWbckcV",
        "colab_type": "code",
        "colab": {}
      },
      "source": [
        "def clean3(string):\n",
        "  tweet = ' '.join(string)\n",
        "  tweet=re.sub(\"'s\",\"is\",tweet)\n",
        "  tweet=re.sub(\"n't\",\"not\",tweet)\n",
        "  tweet=re.sub(\"'m\",\"am\",tweet)\n",
        "  return tweet"
      ],
      "execution_count": 0,
      "outputs": []
    },
    {
      "cell_type": "code",
      "metadata": {
        "id": "Zpcx5kF9deYj",
        "colab_type": "code",
        "colab": {}
      },
      "source": [
        "train[\"text\"]=train[\"text\"].apply(lambda x: clean3(x))\n",
        "test[\"text\"]=test[\"text\"].apply(lambda x: clean3(x))"
      ],
      "execution_count": 0,
      "outputs": []
    },
    {
      "cell_type": "markdown",
      "metadata": {
        "id": "VYB_2wP3fJmW",
        "colab_type": "text"
      },
      "source": [
        "Removing further noise in the data"
      ]
    },
    {
      "cell_type": "code",
      "metadata": {
        "id": "RzkiBVCtfMvf",
        "colab_type": "code",
        "colab": {}
      },
      "source": [
        "def clean4(string):\n",
        "  tweet=string\n",
        "  tweet=re.sub(r\"\\W+\",\" \",tweet)\n",
        "  tweet=re.sub(r\"\\d+\",\" \",tweet)\n",
        "  tweet=re.sub(\"_\",\" \",tweet)\n",
        "  tweet=re.sub(r\"\\b\\w\\w\\b\",\" \",tweet)\n",
        "  tweet=re.sub(r\"\\b\\w\\b\",\" \",tweet)\n",
        "  return tweet"
      ],
      "execution_count": 0,
      "outputs": []
    },
    {
      "cell_type": "code",
      "metadata": {
        "id": "yUv3Q1uLfTCc",
        "colab_type": "code",
        "colab": {}
      },
      "source": [
        "train[\"text\"]=train[\"text\"].apply(lambda x: clean4(x))\n",
        "test[\"text\"]=test[\"text\"].apply(lambda x: clean4(x))"
      ],
      "execution_count": 0,
      "outputs": []
    },
    {
      "cell_type": "markdown",
      "metadata": {
        "id": "PMacEkRgiwtv",
        "colab_type": "text"
      },
      "source": [
        "Location"
      ]
    },
    {
      "cell_type": "code",
      "metadata": {
        "id": "YbdNgs-XiyUr",
        "colab_type": "code",
        "colab": {
          "base_uri": "https://localhost:8080/",
          "height": 1000
        },
        "outputId": "baedc01d-14f0-44e9-9cb6-3970ca8abe44"
      },
      "source": [
        "loc=set(train[\"location\"])\n",
        "loc"
      ],
      "execution_count": 316,
      "outputs": [
        {
          "output_type": "execute_result",
          "data": {
            "text/plain": [
              "{'',\n",
              " 'Colombia',\n",
              " 'Cape Cod, Massachusetts USA',\n",
              " 'Mooseknuckle, Maine',\n",
              " 'CamaquÌ£/Pelotas',\n",
              " 'Voorhees, NJ',\n",
              " 'jeddah | Khartoum',\n",
              " 'Vermont, USA',\n",
              " 'Sumter, SC',\n",
              " 'Chandler, AZ',\n",
              " 'Charlotte, N.C.',\n",
              " 'NOLA ?? TX',\n",
              " 'MedellÌ_n, Antioquia',\n",
              " 'North Vancouver, BC',\n",
              " 'On the toilet having a dump ',\n",
              " ' Nxgerxa',\n",
              " 'Dutch/English/German',\n",
              " 'eARth 3',\n",
              " 'Thailand Malaysia Indonesia ',\n",
              " '??????????????????',\n",
              " 'AFRICA',\n",
              " 'Frisco, TX',\n",
              " 'Harper Woods, MI',\n",
              " 'Cyprus',\n",
              " 'Greater Los Angeles Bearia',\n",
              " 'Freeport IL. USA',\n",
              " 'At Da Laundry Mat Wit Nivea ',\n",
              " 'Moscow',\n",
              " 'Daddy Kink Central',\n",
              " 'Phoenix, AZ',\n",
              " 'Peterborough, Ontario, Canada',\n",
              " 'Dunwoody, GA',\n",
              " 'Weyburn',\n",
              " 'Sao Paulo',\n",
              " \"Spare 'Oom\",\n",
              " 'Wood Buffalo, Alberta',\n",
              " 'Oshawa/Toronto',\n",
              " 'North Jersey',\n",
              " 'Petaluma, CA',\n",
              " 'Fort Calhoun, NE',\n",
              " 'Stalybridge, Tameside',\n",
              " 'Halfrica',\n",
              " 'The green and pleasant land.',\n",
              " 'Southern Maine',\n",
              " 'Piedmont Area, North Carolina',\n",
              " 'SEATTLE, WA USA',\n",
              " 'Fountain Valley, CA',\n",
              " 'Brizzle City !',\n",
              " 'PA, USA',\n",
              " 'Chiyoda Ward, Tokyo',\n",
              " 'Fresno, CA',\n",
              " 'Birmingham and the Marches',\n",
              " 'IG : Sincerely_TSUNAMI',\n",
              " 'Toronto',\n",
              " 'Austin',\n",
              " \"Niall's arms\",\n",
              " 'Alaska',\n",
              " 'jersey ',\n",
              " 'Washington State',\n",
              " 'Belgrade',\n",
              " 'Pocatello, ID',\n",
              " 'Pueblo, CO',\n",
              " 'Hollywood, CA',\n",
              " 'Kuwait ',\n",
              " 'DMV',\n",
              " 'Yulee, FL',\n",
              " 'Detroit, Michigan',\n",
              " 'potters bar',\n",
              " 'S.F. Bay area',\n",
              " 'world',\n",
              " 'Bellville, Ohio',\n",
              " 'Lagos',\n",
              " 'Washington DC / Nantes, France',\n",
              " 'everydaynigerian@gmail.com',\n",
              " '10-Jul',\n",
              " 'prob turning up with sheen',\n",
              " \"St. Patrick's Purgatory\",\n",
              " ' The World',\n",
              " 'ÌÏT: 40.707762,-74.014213',\n",
              " 'The Canopy Kingdom',\n",
              " 'NAWF SIDE POKING OUT ',\n",
              " 'Deadend, UK',\n",
              " 'twitch.tv/naturalemblem26',\n",
              " 'The Web',\n",
              " 'PA.USA',\n",
              " 'somewhere over a rainbow',\n",
              " '21 | PNW',\n",
              " 'taking bath do not disturb',\n",
              " 'West Coast, Cali USA',\n",
              " 'Bagalkote Karnataka ',\n",
              " 'beacon hills ',\n",
              " 'New Britain, CT',\n",
              " 'QUEENS.',\n",
              " 'timeline kamu',\n",
              " 'Monterrey, MÌ©xico',\n",
              " 'Colombo,Sri Lanka.',\n",
              " 'Fruit Bowl',\n",
              " 'PROV',\n",
              " 'The Circle of Life',\n",
              " 'kano',\n",
              " 'Kansas, The Free State! ~ KC',\n",
              " 'USA (Formerly @usNOAAgov)',\n",
              " 'NJ',\n",
              " 'Riverdale, GA ',\n",
              " 'State of Georgia',\n",
              " 'Kent',\n",
              " 'Louisville, KY ',\n",
              " 'Singapore',\n",
              " 'Benicia, CA ',\n",
              " 'West Richland, WA',\n",
              " 'LA - everywhere',\n",
              " 'Menasha, WI',\n",
              " 'Milky Way galaxy ',\n",
              " 'dubai ',\n",
              " 'Sugar Land, TX',\n",
              " 'Methville, CA',\n",
              " 'Amman,Jordan',\n",
              " 'Baker City Oregon',\n",
              " '107-18 79TH STREET',\n",
              " 'Nairobi-KENYA',\n",
              " 'Leeds, U.K.',\n",
              " 'PSA Nursing ',\n",
              " 'Mumbai',\n",
              " 'In Space',\n",
              " 'Varanasi',\n",
              " 'Gidi',\n",
              " 'Mumbai, India',\n",
              " 'Nairobi',\n",
              " '92',\n",
              " 'Hendersonville, NC',\n",
              " 'New Orleans, Louisiana',\n",
              " 'we?it \\x89Û¢ ixwin',\n",
              " 'calgary,ab',\n",
              " 'EPTX',\n",
              " 'Thornton  Colorado',\n",
              " 'Paris, France',\n",
              " 'Eldoret, kenya',\n",
              " 'Hilton Head, SC  ',\n",
              " '?205?478?',\n",
              " \"Riyadh ')\",\n",
              " 'Eau Claire, Wisconsin',\n",
              " 'Karachi',\n",
              " 'taken by piper curda',\n",
              " 'A.A.S my Aztec Princess',\n",
              " 'belleville',\n",
              " 'All around the world',\n",
              " 'london',\n",
              " 'Mo.City',\n",
              " 'Stay Tuned ;) ',\n",
              " 'Florida USA',\n",
              " 'Mumbai, Maharashtra',\n",
              " 'Jerusalem',\n",
              " 'NEPA/570',\n",
              " 'Odawara, Japan',\n",
              " 'London / Berlin / Online',\n",
              " 'Madison, WI & St. Louis MO',\n",
              " 'back in japan ??????????',\n",
              " 'Brasil',\n",
              " 'atlanta',\n",
              " 'Scotts Valley, CA',\n",
              " 'Fort Knox, KY 40121',\n",
              " 'Htx',\n",
              " 'Pittsburgh',\n",
              " 'New Jersey/ D.R.',\n",
              " 'Belfast',\n",
              " 'Hyrule',\n",
              " 'Fakefams',\n",
              " 'Downtown Churubusco, Indiana',\n",
              " '?Gangsta OC / MV RP; 18+.?',\n",
              " 'lagos nigeria',\n",
              " 'Overland Park, KS',\n",
              " 'CORNFIELDS',\n",
              " 'Fairgrounds Resident',\n",
              " 'Killafornia made me ',\n",
              " 'Livonia, MI',\n",
              " 'Spokane, WA',\n",
              " '? Jet Life ?',\n",
              " 'Toronto, ON, Canada',\n",
              " 'Global Edition',\n",
              " 'Geneva',\n",
              " 'CAMARILLO, CA',\n",
              " 'CPT & JHB, South Africa',\n",
              " 'NV',\n",
              " 'the own zone layer ',\n",
              " 'Spain',\n",
              " '518 åá NY',\n",
              " 'Antigua ?? NYC ',\n",
              " 'Depok',\n",
              " \"@protectingtitan's side.\",\n",
              " '#Bummerville otw',\n",
              " 'Colorado Springs',\n",
              " 'St. Louis Mo.',\n",
              " 'Kolkata, India',\n",
              " 'Spain but Opa-Locka, FL',\n",
              " 'Phoenix',\n",
              " 'rome',\n",
              " 'Buxton, Venice, and Nottingham',\n",
              " 'Birmingham',\n",
              " 'Mackay, QLD, Australia',\n",
              " 'Carol Stream, Illinois',\n",
              " 'Jackson',\n",
              " 'West Chester, PA',\n",
              " 'M!A: None',\n",
              " 'Na:tinixw / Hoopa, Berkeley',\n",
              " 'Toronto, ON',\n",
              " 'THE WORLD T.G.G / M.M.M ',\n",
              " 'Birmingham UK',\n",
              " 'on the go',\n",
              " 'Tips on my blog at',\n",
              " '#937??#734',\n",
              " 'Frome, Somerset, England',\n",
              " 'Dubai, United Arab Emirates',\n",
              " 'Redondo Beach, CA',\n",
              " 'nbc washington',\n",
              " 'Durand, MI',\n",
              " 'my house',\n",
              " 'North Carolina, USA',\n",
              " 'Tripsburg, ms.',\n",
              " 'Co. Tyrone Northern Ireland',\n",
              " 'Vancouver, BC, Canada',\n",
              " 'Njoro, Kenya',\n",
              " '? miranda ? 521 mi',\n",
              " 'East TN.',\n",
              " 'Based in CA - Serve Nationwide',\n",
              " 'Marietta, GA',\n",
              " 'Gloucestershire , UK',\n",
              " 'San Juan, Puerto Rico',\n",
              " 'Fairy Tail! ',\n",
              " 'Western New York',\n",
              " 'New York City',\n",
              " 'Chicago, but Philly is home',\n",
              " 'ilford',\n",
              " 'Raleigh (Garner/Cleveland) NC',\n",
              " 'Dagenham, Essex',\n",
              " 'Semarang, Indonesia',\n",
              " 'santo domingo',\n",
              " 'WASHINGTON,DC',\n",
              " 'Amman, Jordan',\n",
              " 'Emirates',\n",
              " 'Leitchfield Kentucky',\n",
              " 'kisumu',\n",
              " '#WashingtonState #Seattle',\n",
              " 'St Austell, Cornwall',\n",
              " 'Gainesville/Tampa, FL',\n",
              " 'Paname City',\n",
              " 'Shirley, NY',\n",
              " 'Austin, Texas',\n",
              " 'Click the link below, okay ',\n",
              " 'Hinterestland',\n",
              " 'between ideas & 3-5pm AEST',\n",
              " 'Blogland',\n",
              " '#ODU',\n",
              " 'Your Conversation',\n",
              " 'Home of the Takers.',\n",
              " 'Morioh, Japan',\n",
              " 'Hampshire, UK',\n",
              " 'Pacific Northwest',\n",
              " '  Melbourne, Australia',\n",
              " 'Piedmont Triad, NC',\n",
              " 'Yuba City, CA',\n",
              " 'va',\n",
              " '#GDJB #ASOT',\n",
              " 'Narnia',\n",
              " 'Loughborough, England',\n",
              " '{GoT | Modern AU | Lizz}',\n",
              " '\\x89Û¢ Views From The Six \\x89Û¢',\n",
              " 'Birdland, New Meridian, FD',\n",
              " 'Brooklyn',\n",
              " 'El Paso, TX',\n",
              " 'Holly, MI',\n",
              " 'Chicopee MA',\n",
              " 'USA , AZ',\n",
              " 'Barcelona, Spain',\n",
              " 'Jersey',\n",
              " 'Quincy MA',\n",
              " 'Londonstan',\n",
              " 'on the web',\n",
              " 'Rotterdam, Zuid-Holland',\n",
              " 'Scotland, United Kingdom',\n",
              " 'Noida, NCR, India',\n",
              " 'Cambridge, MA',\n",
              " 'Reston, VA, USA',\n",
              " 'The land of New Jersey. ',\n",
              " ' Alberta',\n",
              " 'Global',\n",
              " 'Cassadaga Florida',\n",
              " 'Reading UK',\n",
              " 'los angeles',\n",
              " 'Santa Cruz, CA',\n",
              " 'Cimerak - Pangandaran',\n",
              " 'Atlanta, Georgia',\n",
              " 'South Africa',\n",
              " 'Maldives',\n",
              " '316',\n",
              " 'Athens,Greece',\n",
              " 'Canada',\n",
              " 'gaffney, sc ',\n",
              " \"???????, ??'??????\",\n",
              " '  News',\n",
              " 'Queensland, Australia',\n",
              " 'london essex england uk',\n",
              " 'LOCAL ATLANTA NEWS 4/28/00 - 4/28/15 FREELANCER',\n",
              " '6',\n",
              " 'Ebola',\n",
              " '$ad $hawty',\n",
              " 'lost in my thoughts',\n",
              " '3rd Eye Chakra',\n",
              " 'ChicagoRObotz',\n",
              " 'FIMAK A.S Ist Bolge Muduru',\n",
              " 'Tennessee',\n",
              " 'Whippany, NJ',\n",
              " \"St. John's, NL, Canada\",\n",
              " 'Ecuador',\n",
              " 'central chazifornia',\n",
              " 'Texas-USA\\x89ã¢ ?',\n",
              " 'Some pum pum',\n",
              " 'Oklahoma City',\n",
              " \"don't buy the s*n\",\n",
              " 'a botanical garden probably',\n",
              " 'The Great State of Maine ',\n",
              " 'WESTSIDE OF PHILLY 7? BLOCK??',\n",
              " 'Honduras',\n",
              " 'West',\n",
              " 'Ikeja, Nigeria',\n",
              " 'Orange County, California',\n",
              " 'Cuernavaca, Morelos, MÌ©xico.',\n",
              " 'Oslo, Norway',\n",
              " 'FLYEST HIPPIE YOU KNOW ',\n",
              " 'Madison, Wisconsin, USA',\n",
              " 'EveryWhere',\n",
              " '//??//',\n",
              " 'ohio',\n",
              " 'El Paso, Texas',\n",
              " 'probably petting an animal',\n",
              " 'Kolkata',\n",
              " 'Colorado, USA',\n",
              " 'Rhode Island',\n",
              " 'Pon Di Gully',\n",
              " 'Indiana',\n",
              " 'www.aprylpooley.com',\n",
              " 'New York, NY',\n",
              " 'Rock Hill, SC',\n",
              " 'PARACHUTE',\n",
              " 'Pueblo, Colorado',\n",
              " 'Viejo',\n",
              " 'New York',\n",
              " 'Belleville, Illinois',\n",
              " 'One World',\n",
              " 'Newcastle Upon Tyne, England',\n",
              " '204, 555 11 Ave. S.W.',\n",
              " 'V-RP @OZRP_ ?MV, AU, R18+?',\n",
              " 'i love the smurfs 2',\n",
              " 'Brighton and Hove',\n",
              " 'IndiLand ',\n",
              " 'Shrewsbury',\n",
              " 'United Hoods of the Globe',\n",
              " 'Numenor',\n",
              " 'IRAQ',\n",
              " 'Charlottetown',\n",
              " 'USA, Haiti, Nepal',\n",
              " 'NYC',\n",
              " 'Geneva. And beyond. ',\n",
              " 'Get our App',\n",
              " ' |IG: imaginedragoner',\n",
              " 'Darlington',\n",
              " 'Annapolis, MD',\n",
              " 'BROKE NIGGAS DREAM!!',\n",
              " 'Sutton, London UK',\n",
              " 'Hawaii, USA',\n",
              " 'Madison, GA',\n",
              " 'ÌÏT: 42.910975,-78.865828',\n",
              " 'Team Slytherin',\n",
              " 'Alberta ',\n",
              " 'Charlotte County Florida',\n",
              " 'Upstairs.',\n",
              " 'H / pez & sophia ',\n",
              " 'Saint Paul',\n",
              " 'Central Illinois',\n",
              " \"i'm a Citizen of the World\",\n",
              " 'Neverland',\n",
              " 'The Shire',\n",
              " 'New Haven, Connecticut',\n",
              " 'Boston \\x89Û¢ Cape Cod ?',\n",
              " 'www.twitch.tv/PKSparkxx',\n",
              " 'Pittsburgh ',\n",
              " 'Detroit/Windsor',\n",
              " 'In Your Notifications ',\n",
              " 'Phoenix, Arizona, USA',\n",
              " 'San Fransokyo',\n",
              " 'pettyville, usa',\n",
              " 'Inside your mind.',\n",
              " 'Des Moines, Iowa ',\n",
              " 'Wellington',\n",
              " 'THANJAVUR',\n",
              " 'The Globe',\n",
              " 'The dark',\n",
              " 'Gotham',\n",
              " 'Nigeria ',\n",
              " 'Roadside',\n",
              " 'Lurking',\n",
              " 'Chamblee, Georgia',\n",
              " 'statesboro/vidalia',\n",
              " 'Live On Webcam',\n",
              " 'zboyer@washingtontimes.com',\n",
              " 'Budapest, Hungary',\n",
              " 'Jakarta',\n",
              " 'Ely, Cambridgeshire',\n",
              " 'North East Unsigned Radio',\n",
              " 'Birmingham, UK',\n",
              " 'Delhi',\n",
              " 'Evanston, IL',\n",
              " 'Worcester, MA',\n",
              " 'the moon',\n",
              " 'Freeport il ',\n",
              " 'Zimbabwe',\n",
              " 'ATX',\n",
              " 'Notts',\n",
              " 'Tallahassee Florida',\n",
              " 'The Windy City',\n",
              " 'illinois. united state ',\n",
              " 'london town..',\n",
              " 'New York ? ATL',\n",
              " 'peekskill. new york, 10566 ',\n",
              " 'Northern California U.S.A.',\n",
              " ' Tropical SE FLorida',\n",
              " 'Birmingham, United Kingdom',\n",
              " 'MA',\n",
              " 'eritrean',\n",
              " 'tokyo',\n",
              " 'Webster, TX',\n",
              " 'Adventuring in Narnia',\n",
              " '5/5 access / rt link please x',\n",
              " '46.950109,7.439469',\n",
              " 'Sioux Falls, S.D. ',\n",
              " 'Chicago',\n",
              " 'Terre Haute, IN',\n",
              " 'Still. ??S.A.N.D.O.S??',\n",
              " 'Cimahi,West Java,Indonesia',\n",
              " 'United States',\n",
              " 'SaudI arabia - riyadh ',\n",
              " 'Some where',\n",
              " 'NYC metro',\n",
              " 'amsterdayum 120615 062415',\n",
              " 'Melbourne Australia',\n",
              " 'South Florida',\n",
              " 'London/Surrey ',\n",
              " 'Your notifications',\n",
              " 'Wakanda',\n",
              " 'Lahti, Finland',\n",
              " 'instagram- Chloe_Bellx',\n",
              " 'Ojodu,Lagos',\n",
              " 'Halton, Ontario',\n",
              " '#NewcastleuponTyne #UK',\n",
              " 'Newcastle, England',\n",
              " 'dmv ?? fashion school @ KSU. ',\n",
              " 'Jonesboro, AR MO, IOWA USA',\n",
              " 'rowyso dallas ',\n",
              " 'Indonesia\\n',\n",
              " 'Pratt-on-Wye',\n",
              " 'Leeds, England',\n",
              " 'Ciudad AutÌ_noma de Buenos Aires, Argentina',\n",
              " 'New Mexico, USA',\n",
              " 'Instagram - @heyimginog ',\n",
              " 'Cornwall',\n",
              " 'Cleveland, OH',\n",
              " 'Miami ??',\n",
              " 'New York Brooklyn',\n",
              " 'Hartford,  connecticut',\n",
              " 'Essex/Brighton',\n",
              " 'Fort Worth, Texas',\n",
              " 'Colchester Essex ',\n",
              " 'Bloomington, IN',\n",
              " \"it's a journey \",\n",
              " 'Aberdeenshire',\n",
              " 'Arlington, VA',\n",
              " 'nap central',\n",
              " 'instagram: bribriony',\n",
              " 'Abuja,Nigeria',\n",
              " 'Shity land of Northern Ireland',\n",
              " 'Azeroth',\n",
              " 'Dublin, Ireland',\n",
              " 'TX',\n",
              " 'Georgia, U.S.A.',\n",
              " 'California or Colorado',\n",
              " 'San Diego California 92101',\n",
              " 'Fort Collins, CO',\n",
              " 'La Grange Park, IL',\n",
              " 'Thrissur',\n",
              " \"IUPUI '19\",\n",
              " 'North Highlands, CA',\n",
              " 'San Jose, CA, USA',\n",
              " '  å_ ',\n",
              " 'Magnolia',\n",
              " ' Quantico Marine Base, VA.',\n",
              " 'Baton Rouge',\n",
              " 'U.S',\n",
              " 'I Heard #2MBikers',\n",
              " 'Porto Alegre, Rio Grande do Sul',\n",
              " 'The Meadow',\n",
              " 'Online 24/7. Not even kidding.',\n",
              " 'Leeds, UK',\n",
              " 'Central Florida',\n",
              " 'Atlanta, GA',\n",
              " 'NYC :) Ex- #Islamophobe',\n",
              " 'Williamsbridge, Bronx, New Yor',\n",
              " 'Ashland, Oregon',\n",
              " 'Hyderabad Telangana INDIA',\n",
              " 'todaysbigstock.com',\n",
              " 'on a catwalk somewhere',\n",
              " 'Laventillemoorings ',\n",
              " '???  Dreamz',\n",
              " 'Bhubneshwar',\n",
              " 'Cape Town',\n",
              " 'SWMO',\n",
              " 'Niagara Falls, Ontario',\n",
              " 'Isolated City In World Perth',\n",
              " 'Wanderlust',\n",
              " 'Amazon Seller , Propagandist',\n",
              " 'Email: Lovethterry@gmail.com',\n",
              " 'Roaming around the world',\n",
              " 'NY Capital District',\n",
              " 'Bedford IN ',\n",
              " 'Greenpoint',\n",
              " 'w. Nykae ',\n",
              " 'Rochester',\n",
              " 'Dalkeith, Scotland',\n",
              " 'Hemel Hempstead',\n",
              " 'ALWAYS DYING NEVER RESTING',\n",
              " 'San Diego, CA',\n",
              " 'UK,singer,songwriter,?2 act',\n",
              " 'not so cool KY',\n",
              " 'Grimsby, England',\n",
              " 'bk. ',\n",
              " 'Halifax, NS, Canada',\n",
              " 'houstn',\n",
              " 'Garden City, NY',\n",
              " 'texasss',\n",
              " 'Penn Hills, PA',\n",
              " 'Honeymoon Ì£ve.',\n",
              " 'Estados Unidos',\n",
              " 'Belbroughton, England',\n",
              " 'Milton/Tallahassee',\n",
              " 'Somewhere in Jersey',\n",
              " 'Ted&Qz Inc, Ireland, Europe',\n",
              " 'boston',\n",
              " 'Chatham, IL',\n",
              " 'Sylacauga, Alabama',\n",
              " 'Where I Need To Be',\n",
              " 'Anderson, SC',\n",
              " 'Auckland, New Zealand',\n",
              " 'Kelowna, BC',\n",
              " 'Sydney Australia',\n",
              " 'lagos. Unilag',\n",
              " 'wny',\n",
              " 'East Kilbride',\n",
              " 'U.K.',\n",
              " 'MI - CA',\n",
              " 'EVERYWHERE',\n",
              " 'Russia',\n",
              " 'hatena bookmark',\n",
              " 'An eight-sided polygon',\n",
              " '#SandraBland',\n",
              " 'Asheboro, NC',\n",
              " 'Victoria, BC  Canada',\n",
              " ' ? ??????? ? ( ?? å¡ ? ? ? å¡)',\n",
              " 'Dallas Fort-Worth',\n",
              " 'facebook.com/tradcatknights',\n",
              " 'CLVLND',\n",
              " 'Thailand',\n",
              " 'Somewhere out there',\n",
              " 'District 12 - Orange County',\n",
              " 'Coventry, Rhode Island',\n",
              " 'Kilkenny',\n",
              " '??????????????',\n",
              " 'Wiltshire',\n",
              " 'Argus Industries \\\\m/666\\\\m/',\n",
              " 'Temecula, CA',\n",
              " 'The Hammock, FL, USA',\n",
              " 'Temporary Towers',\n",
              " 'CCH ',\n",
              " 'Coimbatore',\n",
              " 'Waialua, Hawaii',\n",
              " 'wherever-the-fuck washington',\n",
              " 'UK',\n",
              " 'Liverpool',\n",
              " 'somewhere in cali ',\n",
              " 'Rocky Mountains',\n",
              " 'North-East Region, Singapore',\n",
              " 'NY, CT & Greece',\n",
              " 'Ottawa,Ontario Canada',\n",
              " 'eating strawberry shitsickles',\n",
              " 'Under Santa Barbara Skies',\n",
              " 'STL ?NOLA',\n",
              " 'rural ohio (fuck)',\n",
              " 'Sanganer, Rajasthan',\n",
              " 'Waddesdon',\n",
              " 'Louisiana',\n",
              " 'Wonderland\\x89ÛÓ ?????? ???? ??????',\n",
              " 'å_å_Los Mina City\\x89ã¢',\n",
              " 'Bartholomew County, Indiana',\n",
              " 'Los Angeles, CA',\n",
              " 'Denver, CO',\n",
              " 'Guayaquil',\n",
              " 'St Charles, MD',\n",
              " 'Adventist - Lesson Sabbath',\n",
              " 'Birmingham, England',\n",
              " 'IL',\n",
              " 'Jerusalem, Israel',\n",
              " 'Amsterdam | San Francisco',\n",
              " 'los angeles, ca',\n",
              " 'Hattiesburg, MS',\n",
              " 'Ad Majorem Dei Glorium',\n",
              " 'Inverness, Nova Scotia',\n",
              " 'Ashxjonespr@gmail.com',\n",
              " 'Karolinska vÌ_gen 18, Solna',\n",
              " 'Bangalore. India',\n",
              " 'snapchat~ maddzz_babby ',\n",
              " 'Holland MI via Houston, CLE',\n",
              " 'NIGERIA',\n",
              " 'Winston-Salem, NC',\n",
              " 'Hell',\n",
              " 'Malaysia/Jordan',\n",
              " 'Victoria, Tx.',\n",
              " 'Unites States',\n",
              " 'Intermountain West',\n",
              " 'South Stand',\n",
              " 'California, USA',\n",
              " 'Canberra, Australian Capital Territory',\n",
              " 'Paris ',\n",
              " 'Houma La',\n",
              " 'The Great State of Texas',\n",
              " 'Rockford, IL',\n",
              " 'North Cack/919',\n",
              " 'GLOBAL',\n",
              " 'lost in history',\n",
              " 'L. A.',\n",
              " 'Afghanistan, USA',\n",
              " 'Absecon, NJ',\n",
              " 'GO BLUE! HAIL YES!!',\n",
              " 'LONG ISLAND, NY',\n",
              " 'Chicago Area',\n",
              " 'Ljubljana, Slovenia',\n",
              " 'Port Harcourt, Nigeria',\n",
              " 'San Antonio-ish, TX',\n",
              " 'Halifax',\n",
              " 'Dudetown',\n",
              " 'CA via Brum',\n",
              " 'Innsmouth, Mass.',\n",
              " 'Virginia',\n",
              " 'Sochi, KDA, RU',\n",
              " 'Miami,FL',\n",
              " 'Based out of Portland, Oregon',\n",
              " 'CT & NY',\n",
              " 'Mogadishu, Somalia',\n",
              " 'Santiago de Cmpostela Galicia',\n",
              " 'Kashmir!',\n",
              " 'Cochrane, Alberta, Canada',\n",
              " 'Mankato, MN',\n",
              " 'Leesburg, FL',\n",
              " 'laying on the bass',\n",
              " 'Suplex City',\n",
              " 'Ashford, Kent, United Kingdom',\n",
              " 'Las Vegas, Nevada',\n",
              " 'McLean, VA',\n",
              " 'Vietnam',\n",
              " 'Corpus Christi',\n",
              " 'Atlanta Georgia ',\n",
              " 'Kuwait',\n",
              " 'Dublin',\n",
              " 'glasgow',\n",
              " 'Swag Francisco',\n",
              " 'Thane',\n",
              " 'Memphis, TN',\n",
              " '????? ???? ????',\n",
              " 'Searching for Bae ',\n",
              " 'St.Cloud, MN',\n",
              " 'LAGOS',\n",
              " 'New York / Worldwide',\n",
              " 'Melbourne',\n",
              " 'Lethbridge, AB, Canada',\n",
              " 'Henderson, Nevada',\n",
              " 'Not a U.S resident',\n",
              " 'Long Island',\n",
              " 'South Carolina',\n",
              " '11th dimension, los angeles',\n",
              " 'Porthcawl',\n",
              " 'Killa Hill, CO',\n",
              " \"wrapped arnd hyuk's finger\",\n",
              " 'Bangalore',\n",
              " 'Albuquerque',\n",
              " 'Las Vegas, NV',\n",
              " 'MÌ©rida, YucatÌÁn',\n",
              " 'Cymru araul',\n",
              " 'moss chamber b',\n",
              " 'South Bloomfield, OH',\n",
              " 'italy',\n",
              " '{Detailed}',\n",
              " 'LA ??',\n",
              " 'USA - Canada - Europe - Asia',\n",
              " 'china',\n",
              " 'Tacoma,Washington',\n",
              " 'WORLDWI$E ',\n",
              " 'DC',\n",
              " 'London / Birmingham',\n",
              " 'Fort Valley,GA/Fayetteville,AR',\n",
              " 'Newport, Wales, UK',\n",
              " 'lrhcthband;four - bournemouth',\n",
              " 'Southern Califorina',\n",
              " 'Miami?Gainesville',\n",
              " 'Leaving Bikini Bottom',\n",
              " 'WORDLDWIDE',\n",
              " 'Between Dire and Radiant',\n",
              " 'To The Right of You!',\n",
              " 'Vancouver, Canada',\n",
              " 'Washington',\n",
              " 'the local dump',\n",
              " '#HarleyChick#PJNT#RunBenRun',\n",
              " 'Rockland County, NY',\n",
              " 'VISIT MY YOUTUBE CHANNEL.',\n",
              " 'right next to you',\n",
              " 'Catskills',\n",
              " 'San Diego, Texas.',\n",
              " '???????? ?????????.',\n",
              " 'TÌÁchira - Venezuela',\n",
              " 'å_: ?? ÌÑ ? : ?',\n",
              " 'Big NorthEast Litter Box',\n",
              " 'Ottawa, Ontario',\n",
              " '//RP\\\\ ot @Mort3mer\\\\\\\\',\n",
              " 'From NY. In Scranton, PA',\n",
              " 'St. Catharines, Ontario',\n",
              " 'y(our) boyfriends legs ',\n",
              " 'ss',\n",
              " 'Miami via Lima',\n",
              " 'Polmont ',\n",
              " 'sÌ£o luis',\n",
              " 'Bokaro Steel City, Jharkhand',\n",
              " 'Nevada, USA',\n",
              " 'tri state',\n",
              " 'Playa del Carmen, Mexico',\n",
              " 'BestCoast',\n",
              " 'New Delhi',\n",
              " 'Cardiff, UK',\n",
              " 'victoria mozÌ£o ',\n",
              " 'too far',\n",
              " 'Brisbane, Queensland',\n",
              " 'Fort Walton Beach, Fl',\n",
              " 'Washington state',\n",
              " 'Cardiff, Wales',\n",
              " 'Kentucky, USA',\n",
              " 'Wrigley Field',\n",
              " 'NBO',\n",
              " 'Utica NY',\n",
              " 'sri lanka',\n",
              " 'Williamstown, VT',\n",
              " 'Saint Lucia',\n",
              " 'NY || live easy? ',\n",
              " 'Crouch End, London',\n",
              " 'in my head',\n",
              " 'DaKounty, Pa',\n",
              " 'Illinois',\n",
              " 'ljp/4',\n",
              " 'Somewhere else...',\n",
              " 'Made in America',\n",
              " 'Across the Atlantic',\n",
              " 'Warri',\n",
              " 'Rhyme Or Reason?',\n",
              " 'nigeria',\n",
              " 'cleveland, oh',\n",
              " 'Swan River',\n",
              " 'Ivano-Frankivsk',\n",
              " 'Plano, Texas',\n",
              " 'Coventry, UK',\n",
              " 'Colonial Heights, VA',\n",
              " 'Devon/London ',\n",
              " 'Houston ',\n",
              " 'Brecksville, OH',\n",
              " 'Lansing, Michigan',\n",
              " 'Kauai, Hawaii',\n",
              " '#BlackLivesMatter',\n",
              " 'kenya',\n",
              " 'Victoria, Australia, Earth',\n",
              " '19.600858, -99.047821',\n",
              " 'urÌ£nus',\n",
              " 'NYC-LA-MIAMI',\n",
              " 'Baton Rouge, LA',\n",
              " 'Lubbock, TX',\n",
              " 'The windy plains of Denver',\n",
              " 'Dallas, TX ',\n",
              " 'Atlanta,Ga',\n",
              " 'Avon',\n",
              " 'Tamworth',\n",
              " 'I-75 in Florida',\n",
              " 'online ',\n",
              " '#MayGodHelpUS',\n",
              " 'Vidalia GA',\n",
              " 'Sydney, Australia',\n",
              " 'Tunbridge Wells',\n",
              " 'Queen Creek AZ',\n",
              " 'The Internet & NYC',\n",
              " 'North East, England',\n",
              " '?? ??',\n",
              " 'Americas Newsroom',\n",
              " '709?',\n",
              " 'South, USA',\n",
              " 'MÌ©xico D.F.',\n",
              " 'London, United Kingdom',\n",
              " 'japon',\n",
              " 'Miami',\n",
              " '????s ?? ????Ìø????Ì¡a',\n",
              " 'iamdigitalent.com',\n",
              " 'Greenville',\n",
              " 'Houston, Texas',\n",
              " 'fl',\n",
              " 'Mysore, Karnataka',\n",
              " 'Worldwide.',\n",
              " \"elena's bed // info on link\",\n",
              " 'SEA Server',\n",
              " 'Scotland ',\n",
              " 'Narnia, Maryland',\n",
              " 'Los Angeles, California',\n",
              " '|-/',\n",
              " 'Jonesboro, Arkansas USA',\n",
              " '617-BTOWN-BEATDOWN',\n",
              " \"Wherever I'm sent\",\n",
              " 'Kettering, OH',\n",
              " 'ÌøåÀå_T: 40.736324,-73.990062',\n",
              " 'taco bell',\n",
              " 'Alicante, Valencia',\n",
              " 'New South Wales, Australia',\n",
              " 'Irving , Texas',\n",
              " 'LFC x GSW',\n",
              " \"R'lyeh, South Pacific\",\n",
              " 'The Land of MAss Stupidity',\n",
              " 'CA, AZ & NV',\n",
              " 'Quantico, VA',\n",
              " 'ÌÏT: 10.614817868480726,12.195582811791382',\n",
              " 'Phoenix Az',\n",
              " 'the burrow',\n",
              " 'Hogsmeade',\n",
              " 'Jamshedpur, Jharkhand',\n",
              " 'Wilmington, DE',\n",
              " '#1 Vacation Destination,HAWAII',\n",
              " '#expelcl*y',\n",
              " 'Bedford, England',\n",
              " 'buffalo / madrid / granada',\n",
              " 'Windsor,Ontario',\n",
              " 'iTunes - RSS',\n",
              " 'Las Vegas',\n",
              " 'Conroe, TX',\n",
              " 'Johannesburg, South Africa',\n",
              " 'Corpus Christi, Texas',\n",
              " 'Sacramento, California',\n",
              " 'Trapped in my Conscience ',\n",
              " 'Predjama, Eslovenia.',\n",
              " 'Mariveles, Bataan',\n",
              " 'Melbourne, Florida',\n",
              " \"whs '17\",\n",
              " 'District of Gentrification/ DC',\n",
              " 'IN our hearts  Earth Global ',\n",
              " 'Wema building',\n",
              " 'County Durham, United Kingdom',\n",
              " 'New York, United States',\n",
              " 'Like us on Face ',\n",
              " 'Seattle native in Prescott, AZ',\n",
              " 'Santiago Bernabeau',\n",
              " 'Cypress, CA 90630',\n",
              " 'Hermosa Beach, CA',\n",
              " 'Mars',\n",
              " 'Rotterdam, The Netherlands',\n",
              " 'Horsemind, MI',\n",
              " 'Adelaide, South Australia',\n",
              " 'cody, austin follows ?*?',\n",
              " 'Sydney & Worldwide',\n",
              " 'San Jose',\n",
              " 'global',\n",
              " 'Watch Those Videos -',\n",
              " 'Lehigh Valley, PA',\n",
              " 'the void, U.S.A',\n",
              " 'Enterprise, Alabama',\n",
              " 'Winnipeg',\n",
              " 'ph',\n",
              " 'Ames, IA',\n",
              " 'marvel | books | hp | tmr',\n",
              " 'Montreal',\n",
              " 'LA',\n",
              " '50% Queanbeyan - 50% Sydney',\n",
              " 'www.facebook.com/stuntfm',\n",
              " 'Johns Creek, GA',\n",
              " 'Harbour Heights, FL',\n",
              " '[ Blonde Bi Fry. ]',\n",
              " 'Earth-616',\n",
              " 'ill yorker',\n",
              " 'Pleasanton, CA',\n",
              " 'Topeka, KS',\n",
              " 'lowestoft',\n",
              " 'FCT, Abuja ',\n",
              " 'Whitby, ON',\n",
              " 'Maracay y Nirgua, Venezuela',\n",
              " 'WorldWide',\n",
              " 'Jamaica',\n",
              " 'California, United States',\n",
              " 'Bleak House',\n",
              " 'Moscow, Russia',\n",
              " 'West Vancouver, B.C.',\n",
              " ' ?currently writing a book?',\n",
              " 'Alameda, CA',\n",
              " 'SE London(heart is by the sea)',\n",
              " 'BC',\n",
              " 'Concord, NH ',\n",
              " 'KOLKATA',\n",
              " 'North',\n",
              " '#KaumElite;#F?VOR;#SMOFC',\n",
              " 'Aperture Science Test Facility',\n",
              " 'Giddy, Greenland',\n",
              " '?????????????, Thailand ',\n",
              " 'Thibodaux, LA',\n",
              " 'THE 6IX',\n",
              " 'SWinfo@dot.state.al.us',\n",
              " 'Trinidad & Tobago',\n",
              " 'Canada Eh! ',\n",
              " 'Greenpoint, Brooklyn',\n",
              " 'Tampa',\n",
              " 'Aurora, IL',\n",
              " 'Melbourne, Australia.',\n",
              " 'Austin/Los Angeles',\n",
              " 'nyc',\n",
              " '261 5th Avenue New York, NY ',\n",
              " 'China',\n",
              " '627',\n",
              " 'far away',\n",
              " 'Tulsa, Oklahoma',\n",
              " 'anzio,italy',\n",
              " 'Nigeria, WORLDWIDE',\n",
              " ' New Delhi ',\n",
              " 'Oakland, CA',\n",
              " 'We are global!',\n",
              " 'Two Up Two Down',\n",
              " 'Surry Hills, Sydney',\n",
              " 'mainly California',\n",
              " 'South West, England',\n",
              " 'Manhattan',\n",
              " '\\x89Û¢FLG\\x89Û¢',\n",
              " 'Durban, South Africa',\n",
              " 'Around the world',\n",
              " 'KÌ¦ln, Nordrhein-Westfalen',\n",
              " 'Back East in PA',\n",
              " 'Marbella. Spain',\n",
              " '?',\n",
              " 'Montana, USA',\n",
              " 'Over the Moon...',\n",
              " 'Columbia, SC',\n",
              " 'Harris County, Texas',\n",
              " 'Canadian bread',\n",
              " 'Swaning Around',\n",
              " 'In my own world!!!',\n",
              " 'denver colorado',\n",
              " 'ELVY',\n",
              " 'America',\n",
              " 'http://www.amazon.com/dp/B00HR',\n",
              " '???????????',\n",
              " 'PDX',\n",
              " 'Planet Eyal, Shandral System',\n",
              " 'Charlotte',\n",
              " 'cedar rapids ia',\n",
              " 'the road to success',\n",
              " 'Cleveland, Ohio',\n",
              " 'Level 3 Garrison, Sector G',\n",
              " '11202',\n",
              " 'Somewhere with Clyde',\n",
              " 'San Mateo County, CA',\n",
              " 'Torry Alvarez love forever ? ?',\n",
              " 'REPUBLICA DOMINICANA',\n",
              " 'Buffalo/DC',\n",
              " 'Central Coast, California',\n",
              " 'Ames, Iowa',\n",
              " 'USAoV',\n",
              " 'Mexico City',\n",
              " 'LEALMAN, FLORIDA',\n",
              " 'Isle of Man',\n",
              " 'Midwest',\n",
              " 'Basketball City, USA ',\n",
              " 'CHICAGO (312)',\n",
              " 'Greensboro, NC',\n",
              " 'Nirvana',\n",
              " 'Helsinki',\n",
              " 'KurveZ@GearHeadCentral.net',\n",
              " 'Heathrow',\n",
              " 'Arlington, TX',\n",
              " 'Principality of Zeron',\n",
              " 'en el pais de los arrechos',\n",
              " 'KLA,Uganda',\n",
              " 'U.S. Northern Virginia',\n",
              " \"Eww, I'm not Paul Elam\",\n",
              " 'London ',\n",
              " '???????, Texas',\n",
              " 'Inglewood, CA',\n",
              " 'West Hollywood',\n",
              " 'Tyler, TX',\n",
              " 'austin, texas',\n",
              " 'I ACCEPT SONG REQUESTS',\n",
              " ...}"
            ]
          },
          "metadata": {
            "tags": []
          },
          "execution_count": 316
        }
      ]
    },
    {
      "cell_type": "markdown",
      "metadata": {
        "id": "JyJBOCarjdMB",
        "colab_type": "text"
      },
      "source": [
        "We will clean all the digits and symbols from the text.\n",
        "We won't lowercase the string as they are location names and it may also help us to differentiate actual locations from noisy data"
      ]
    },
    {
      "cell_type": "code",
      "metadata": {
        "id": "HlevUzwujcfI",
        "colab_type": "code",
        "colab": {}
      },
      "source": [
        "def loc_clean1(string):\n",
        "  location=string\n",
        "  location=re.sub(r\"\\d+\",\" \",location)\n",
        "  location=re.sub(r\"\\W+\",\" \",location)\n",
        "  return location"
      ],
      "execution_count": 0,
      "outputs": []
    },
    {
      "cell_type": "code",
      "metadata": {
        "id": "yS6xEPqAnB6I",
        "colab_type": "code",
        "colab": {}
      },
      "source": [
        "train[\"location\"]=train[\"location\"].apply(lambda x: loc_clean1(x))\n",
        "test[\"location\"]=test[\"location\"].apply(lambda x: loc_clean1(x))"
      ],
      "execution_count": 0,
      "outputs": []
    },
    {
      "cell_type": "markdown",
      "metadata": {
        "id": "OHpumLzeod6_",
        "colab_type": "text"
      },
      "source": [
        "Keywords"
      ]
    },
    {
      "cell_type": "code",
      "metadata": {
        "id": "0OT5Yerrofxc",
        "colab_type": "code",
        "colab": {
          "base_uri": "https://localhost:8080/",
          "height": 1000
        },
        "outputId": "2f355c90-188b-4e65-a340-d10720d3262a"
      },
      "source": [
        "key=set(train[\"keyword\"])\n",
        "key"
      ],
      "execution_count": 319,
      "outputs": [
        {
          "output_type": "execute_result",
          "data": {
            "text/plain": [
              "{'',\n",
              " 'ablaze',\n",
              " 'accident',\n",
              " 'aftershock',\n",
              " 'airplane%20accident',\n",
              " 'ambulance',\n",
              " 'annihilated',\n",
              " 'annihilation',\n",
              " 'apocalypse',\n",
              " 'armageddon',\n",
              " 'army',\n",
              " 'arson',\n",
              " 'arsonist',\n",
              " 'attack',\n",
              " 'attacked',\n",
              " 'avalanche',\n",
              " 'battle',\n",
              " 'bioterror',\n",
              " 'bioterrorism',\n",
              " 'blaze',\n",
              " 'blazing',\n",
              " 'bleeding',\n",
              " 'blew%20up',\n",
              " 'blight',\n",
              " 'blizzard',\n",
              " 'blood',\n",
              " 'bloody',\n",
              " 'blown%20up',\n",
              " 'body%20bag',\n",
              " 'body%20bagging',\n",
              " 'body%20bags',\n",
              " 'bomb',\n",
              " 'bombed',\n",
              " 'bombing',\n",
              " 'bridge%20collapse',\n",
              " 'buildings%20burning',\n",
              " 'buildings%20on%20fire',\n",
              " 'burned',\n",
              " 'burning',\n",
              " 'burning%20buildings',\n",
              " 'bush%20fires',\n",
              " 'casualties',\n",
              " 'casualty',\n",
              " 'catastrophe',\n",
              " 'catastrophic',\n",
              " 'chemical%20emergency',\n",
              " 'cliff%20fall',\n",
              " 'collapse',\n",
              " 'collapsed',\n",
              " 'collide',\n",
              " 'collided',\n",
              " 'collision',\n",
              " 'crash',\n",
              " 'crashed',\n",
              " 'crush',\n",
              " 'crushed',\n",
              " 'curfew',\n",
              " 'cyclone',\n",
              " 'damage',\n",
              " 'danger',\n",
              " 'dead',\n",
              " 'death',\n",
              " 'deaths',\n",
              " 'debris',\n",
              " 'deluge',\n",
              " 'deluged',\n",
              " 'demolish',\n",
              " 'demolished',\n",
              " 'demolition',\n",
              " 'derail',\n",
              " 'derailed',\n",
              " 'derailment',\n",
              " 'desolate',\n",
              " 'desolation',\n",
              " 'destroy',\n",
              " 'destroyed',\n",
              " 'destruction',\n",
              " 'detonate',\n",
              " 'detonation',\n",
              " 'devastated',\n",
              " 'devastation',\n",
              " 'disaster',\n",
              " 'displaced',\n",
              " 'drought',\n",
              " 'drown',\n",
              " 'drowned',\n",
              " 'drowning',\n",
              " 'dust%20storm',\n",
              " 'earthquake',\n",
              " 'electrocute',\n",
              " 'electrocuted',\n",
              " 'emergency',\n",
              " 'emergency%20plan',\n",
              " 'emergency%20services',\n",
              " 'engulfed',\n",
              " 'epicentre',\n",
              " 'evacuate',\n",
              " 'evacuated',\n",
              " 'evacuation',\n",
              " 'explode',\n",
              " 'exploded',\n",
              " 'explosion',\n",
              " 'eyewitness',\n",
              " 'famine',\n",
              " 'fatal',\n",
              " 'fatalities',\n",
              " 'fatality',\n",
              " 'fear',\n",
              " 'fire',\n",
              " 'fire%20truck',\n",
              " 'first%20responders',\n",
              " 'flames',\n",
              " 'flattened',\n",
              " 'flood',\n",
              " 'flooding',\n",
              " 'floods',\n",
              " 'forest%20fire',\n",
              " 'forest%20fires',\n",
              " 'hail',\n",
              " 'hailstorm',\n",
              " 'harm',\n",
              " 'hazard',\n",
              " 'hazardous',\n",
              " 'heat%20wave',\n",
              " 'hellfire',\n",
              " 'hijack',\n",
              " 'hijacker',\n",
              " 'hijacking',\n",
              " 'hostage',\n",
              " 'hostages',\n",
              " 'hurricane',\n",
              " 'injured',\n",
              " 'injuries',\n",
              " 'injury',\n",
              " 'inundated',\n",
              " 'inundation',\n",
              " 'landslide',\n",
              " 'lava',\n",
              " 'lightning',\n",
              " 'loud%20bang',\n",
              " 'mass%20murder',\n",
              " 'mass%20murderer',\n",
              " 'massacre',\n",
              " 'mayhem',\n",
              " 'meltdown',\n",
              " 'military',\n",
              " 'mudslide',\n",
              " 'natural%20disaster',\n",
              " 'nuclear%20disaster',\n",
              " 'nuclear%20reactor',\n",
              " 'obliterate',\n",
              " 'obliterated',\n",
              " 'obliteration',\n",
              " 'oil%20spill',\n",
              " 'outbreak',\n",
              " 'pandemonium',\n",
              " 'panic',\n",
              " 'panicking',\n",
              " 'police',\n",
              " 'quarantine',\n",
              " 'quarantined',\n",
              " 'radiation%20emergency',\n",
              " 'rainstorm',\n",
              " 'razed',\n",
              " 'refugees',\n",
              " 'rescue',\n",
              " 'rescued',\n",
              " 'rescuers',\n",
              " 'riot',\n",
              " 'rioting',\n",
              " 'rubble',\n",
              " 'ruin',\n",
              " 'sandstorm',\n",
              " 'screamed',\n",
              " 'screaming',\n",
              " 'screams',\n",
              " 'seismic',\n",
              " 'sinkhole',\n",
              " 'sinking',\n",
              " 'siren',\n",
              " 'sirens',\n",
              " 'smoke',\n",
              " 'snowstorm',\n",
              " 'storm',\n",
              " 'stretcher',\n",
              " 'structural%20failure',\n",
              " 'suicide%20bomb',\n",
              " 'suicide%20bomber',\n",
              " 'suicide%20bombing',\n",
              " 'sunk',\n",
              " 'survive',\n",
              " 'survived',\n",
              " 'survivors',\n",
              " 'terrorism',\n",
              " 'terrorist',\n",
              " 'threat',\n",
              " 'thunder',\n",
              " 'thunderstorm',\n",
              " 'tornado',\n",
              " 'tragedy',\n",
              " 'trapped',\n",
              " 'trauma',\n",
              " 'traumatised',\n",
              " 'trouble',\n",
              " 'tsunami',\n",
              " 'twister',\n",
              " 'typhoon',\n",
              " 'upheaval',\n",
              " 'violent%20storm',\n",
              " 'volcano',\n",
              " 'war%20zone',\n",
              " 'weapon',\n",
              " 'weapons',\n",
              " 'whirlwind',\n",
              " 'wild%20fires',\n",
              " 'wildfire',\n",
              " 'windstorm',\n",
              " 'wounded',\n",
              " 'wounds',\n",
              " 'wreck',\n",
              " 'wreckage',\n",
              " 'wrecked'}"
            ]
          },
          "metadata": {
            "tags": []
          },
          "execution_count": 319
        }
      ]
    },
    {
      "cell_type": "markdown",
      "metadata": {
        "id": "fQcCIPeQpBC9",
        "colab_type": "text"
      },
      "source": [
        "we apply the same cleaning as location"
      ]
    },
    {
      "cell_type": "code",
      "metadata": {
        "id": "mlyX1-p6pEh3",
        "colab_type": "code",
        "colab": {}
      },
      "source": [
        "train[\"keyword\"]=train[\"keyword\"].apply(lambda x: loc_clean1(x))\n",
        "test[\"keyword\"]=test[\"keyword\"].apply(lambda x: loc_clean1(x))"
      ],
      "execution_count": 0,
      "outputs": []
    },
    {
      "cell_type": "code",
      "metadata": {
        "id": "1ZcMxzo4prqJ",
        "colab_type": "code",
        "colab": {}
      },
      "source": [
        "train[\"data\"] = train['keyword'] +' '+ train['location'] +' '+ train['text']\n",
        "test[\"data\"] = test['keyword'] +' '+ test['location'] +' '+ test['text']"
      ],
      "execution_count": 0,
      "outputs": []
    },
    {
      "cell_type": "markdown",
      "metadata": {
        "id": "LWP_oWPmpZjS",
        "colab_type": "text"
      },
      "source": [
        "#Stemming"
      ]
    },
    {
      "cell_type": "code",
      "metadata": {
        "id": "2VOH8816pbe2",
        "colab_type": "code",
        "colab": {
          "base_uri": "https://localhost:8080/",
          "height": 54
        },
        "outputId": "cb5a92b2-a7ea-401c-a2f3-7ed6cc0d75d4"
      },
      "source": [
        "\"\"\"train[\"data\"]=[ps.stem(word) for word in train.data if \n",
        "                     word not in set(stopwords.words('english'))]\n",
        "test[\"data\"]=[ps.stem(word) for word in test.data if \n",
        "                     word not in set(stopwords.words('english'))] \"\"\""
      ],
      "execution_count": 322,
      "outputs": [
        {
          "output_type": "execute_result",
          "data": {
            "text/plain": [
              "'train[\"data\"]=[ps.stem(word) for word in train.data if \\n                     word not in set(stopwords.words(\\'english\\'))]\\ntest[\"data\"]=[ps.stem(word) for word in test.data if \\n                     word not in set(stopwords.words(\\'english\\'))] '"
            ]
          },
          "metadata": {
            "tags": []
          },
          "execution_count": 322
        }
      ]
    },
    {
      "cell_type": "markdown",
      "metadata": {
        "id": "iuaLjUl4qEZK",
        "colab_type": "text"
      },
      "source": [
        "#Lemmatizing"
      ]
    },
    {
      "cell_type": "code",
      "metadata": {
        "id": "9p2uhcQ6qIZH",
        "colab_type": "code",
        "colab": {}
      },
      "source": [
        "train[\"data\"]=[lemmatizer.lemmatize(word) for word in train.data if \n",
        "                     word not in set(stopwords.words('english'))]\n",
        "test[\"data\"]=[lemmatizer.lemmatize(word) for word in test.data if \n",
        "                     word not in set(stopwords.words('english'))]"
      ],
      "execution_count": 0,
      "outputs": []
    },
    {
      "cell_type": "markdown",
      "metadata": {
        "id": "m2yY2NX9Rws9",
        "colab_type": "text"
      },
      "source": [
        "#Vectorizing"
      ]
    },
    {
      "cell_type": "markdown",
      "metadata": {
        "id": "x9JEbgMSSQum",
        "colab_type": "text"
      },
      "source": [
        "**CountVectorizer**"
      ]
    },
    {
      "cell_type": "code",
      "metadata": {
        "id": "gqhUuVQSRcMr",
        "colab_type": "code",
        "colab": {}
      },
      "source": [
        "cv = CountVectorizer(ngram_range = (1,3))\n",
        "text_counts_train= cv.fit_transform(train[\"data\"])\n",
        "text_counts_test= cv.transform(test[\"data\"])"
      ],
      "execution_count": 0,
      "outputs": []
    },
    {
      "cell_type": "code",
      "metadata": {
        "id": "Zkk6REJAql8a",
        "colab_type": "code",
        "colab": {}
      },
      "source": [
        "X=text_counts_train\n",
        "y=train[[\"target\"]]\n",
        "test=text_counts_test"
      ],
      "execution_count": 0,
      "outputs": []
    },
    {
      "cell_type": "markdown",
      "metadata": {
        "id": "5W2-gnB-UQi2",
        "colab_type": "text"
      },
      "source": [
        "**Tf**-**idf** **Vectorizer**"
      ]
    },
    {
      "cell_type": "code",
      "metadata": {
        "id": "ChcPMgGTU_Ot",
        "colab_type": "code",
        "colab": {
          "base_uri": "https://localhost:8080/",
          "height": 54
        },
        "outputId": "0e85fda0-e6df-4650-b04e-41b40224898f"
      },
      "source": [
        "\"\"\"tfidf_v=TfidfVectorizer(ngram_range=(1,3))\n",
        "text_tf_train=tfidf_v.fit_transform(train[\"data_train\"])\n",
        "text_tf_test=tfidf_v.transform(test[\"data_train\"])\"\"\""
      ],
      "execution_count": 326,
      "outputs": [
        {
          "output_type": "execute_result",
          "data": {
            "text/plain": [
              "'tfidf_v=TfidfVectorizer(ngram_range=(1,3))\\ntext_tf_train=tfidf_v.fit_transform(train[\"data_train\"])\\ntext_tf_test=tfidf_v.transform(test[\"data_train\"])'"
            ]
          },
          "metadata": {
            "tags": []
          },
          "execution_count": 326
        }
      ]
    },
    {
      "cell_type": "code",
      "metadata": {
        "id": "Xg8376yMWJJg",
        "colab_type": "code",
        "colab": {
          "base_uri": "https://localhost:8080/",
          "height": 34
        },
        "outputId": "057aca16-1397-4a78-a9f9-e1b5b3a28d27"
      },
      "source": [
        "\"\"\"X_train=text_tf_train\n",
        "y_train=train[[\"target\"]]\n",
        "X_test=text_tf_test \"\"\""
      ],
      "execution_count": 327,
      "outputs": [
        {
          "output_type": "execute_result",
          "data": {
            "text/plain": [
              "'X_train=text_tf_train\\ny_train=train[[\"target\"]]\\nX_test=text_tf_test '"
            ]
          },
          "metadata": {
            "tags": []
          },
          "execution_count": 327
        }
      ]
    },
    {
      "cell_type": "markdown",
      "metadata": {
        "id": "koYgc1JMUxmI",
        "colab_type": "text"
      },
      "source": [
        "#Modelling"
      ]
    },
    {
      "cell_type": "code",
      "metadata": {
        "id": "WGwtqVUqsPA8",
        "colab_type": "code",
        "colab": {}
      },
      "source": [
        "X_train, X_test, y_train, y_test = train_test_split(X, y, test_size=0.33, random_state=9)"
      ],
      "execution_count": 0,
      "outputs": []
    },
    {
      "cell_type": "markdown",
      "metadata": {
        "id": "mv-xjAz6k2VH",
        "colab_type": "text"
      },
      "source": [
        "Logistic Regression"
      ]
    },
    {
      "cell_type": "code",
      "metadata": {
        "id": "wkNSWqg9k2DQ",
        "colab_type": "code",
        "outputId": "46ca943c-1463-4a0e-de5e-1cda579b2df0",
        "colab": {
          "base_uri": "https://localhost:8080/",
          "height": 34
        }
      },
      "source": [
        "\"\"\"logreg = LogisticRegression()\n",
        "logreg.fit(X_train,y_train)\n",
        "y_pred = logreg.predict(X_test)\"\"\""
      ],
      "execution_count": 329,
      "outputs": [
        {
          "output_type": "execute_result",
          "data": {
            "text/plain": [
              "'logreg = LogisticRegression()\\nlogreg.fit(X_train,y_train)\\ny_pred = logreg.predict(X_test)'"
            ]
          },
          "metadata": {
            "tags": []
          },
          "execution_count": 329
        }
      ]
    },
    {
      "cell_type": "code",
      "metadata": {
        "id": "xE708GJdUbU-",
        "colab_type": "code",
        "colab": {}
      },
      "source": [
        "#pd.DataFrame(confusion_matrix(y_test,y_pred))"
      ],
      "execution_count": 0,
      "outputs": []
    },
    {
      "cell_type": "code",
      "metadata": {
        "id": "Jn4k0zolxaQ2",
        "colab_type": "code",
        "colab": {}
      },
      "source": [
        "#accuracy_score(y_test, y_pred)"
      ],
      "execution_count": 0,
      "outputs": []
    },
    {
      "cell_type": "code",
      "metadata": {
        "id": "eRcL59GT1aI3",
        "colab_type": "code",
        "colab": {
          "base_uri": "https://localhost:8080/",
          "height": 34
        },
        "outputId": "a3a04241-71c4-43ea-b791-eccd2f449d68"
      },
      "source": [
        "\"\"\"logreg.fit(X,y)\n",
        "y_pred = logreg.predict(test)\"\"\""
      ],
      "execution_count": 332,
      "outputs": [
        {
          "output_type": "execute_result",
          "data": {
            "text/plain": [
              "'logreg.fit(X,y)\\ny_pred = logreg.predict(test)'"
            ]
          },
          "metadata": {
            "tags": []
          },
          "execution_count": 332
        }
      ]
    },
    {
      "cell_type": "markdown",
      "metadata": {
        "id": "9XiGjAh63oby",
        "colab_type": "text"
      },
      "source": [
        "Naive Bayes"
      ]
    },
    {
      "cell_type": "code",
      "metadata": {
        "id": "iI2XrLmG3rpV",
        "colab_type": "code",
        "colab": {}
      },
      "source": [
        "clf = MultinomialNB().fit(X,y)\n",
        "y_pred= clf.predict(test)"
      ],
      "execution_count": 0,
      "outputs": []
    },
    {
      "cell_type": "markdown",
      "metadata": {
        "id": "nYIF1ublZCWf",
        "colab_type": "text"
      },
      "source": [
        "# Exporting csv"
      ]
    },
    {
      "cell_type": "code",
      "metadata": {
        "id": "2k8d7C13S6LN",
        "colab_type": "code",
        "colab": {}
      },
      "source": [
        "y_pred=pd.DataFrame(y_pred)\n",
        "y_pred.rename(columns = {0:'target'}, inplace = True)\n",
        "id=test_copy[[\"id\"]]\n",
        "y_pred= pd.concat([id, y_pred], axis=1)\n",
        "y_pred=pd.DataFrame(y_pred)"
      ],
      "execution_count": 0,
      "outputs": []
    },
    {
      "cell_type": "code",
      "metadata": {
        "id": "ARbUv_8R3Hxz",
        "colab_type": "code",
        "colab": {}
      },
      "source": [
        "#export_csv=y_pred.to_csv('new5.csv', index=None,header=True)"
      ],
      "execution_count": 0,
      "outputs": []
    }
  ]
}