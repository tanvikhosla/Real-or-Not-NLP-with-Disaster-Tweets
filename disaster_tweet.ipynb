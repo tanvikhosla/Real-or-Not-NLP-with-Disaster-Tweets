{
  "nbformat": 4,
  "nbformat_minor": 0,
  "metadata": {
    "colab": {
      "name": "Untitled7.ipynb",
      "provenance": [],
      "collapsed_sections": []
    },
    "kernelspec": {
      "name": "python3",
      "display_name": "Python 3"
    }
  },
  "cells": [
    {
      "cell_type": "markdown",
      "metadata": {
        "id": "Cfh70qfTMPZu",
        "colab_type": "text"
      },
      "source": [
        "# Importing Libraries"
      ]
    },
    {
      "cell_type": "code",
      "metadata": {
        "id": "9sDqUq9rLxnY",
        "colab_type": "code",
        "colab": {}
      },
      "source": [
        "import warnings\n",
        "warnings.filterwarnings('ignore')"
      ],
      "execution_count": 0,
      "outputs": []
    },
    {
      "cell_type": "code",
      "metadata": {
        "id": "MINNIASeMfQI",
        "colab_type": "code",
        "colab": {}
      },
      "source": [
        "import pandas as pd\n",
        "import numpy as np\n",
        "import string \n",
        "import re"
      ],
      "execution_count": 0,
      "outputs": []
    },
    {
      "cell_type": "code",
      "metadata": {
        "id": "7jDNL6IwMkjI",
        "colab_type": "code",
        "colab": {}
      },
      "source": [
        "import seaborn as sns\n",
        "import matplotlib.pyplot as plt\n",
        "% matplotlib inline"
      ],
      "execution_count": 0,
      "outputs": []
    },
    {
      "cell_type": "code",
      "metadata": {
        "id": "IqTgC9ZuMpjW",
        "colab_type": "code",
        "outputId": "ca97790c-e13f-4978-83a5-f624e4efc9d4",
        "colab": {
          "base_uri": "https://localhost:8080/",
          "height": 119
        }
      },
      "source": [
        "import nltk\n",
        "nltk.download('wordnet')\n",
        "nltk.download('punkt')\n",
        "nltk.download('stopwords')\n",
        "from nltk.stem import WordNetLemmatizer\n",
        "lemmatizer=WordNetLemmatizer()\n",
        "from nltk.stem import PorterStemmer\n",
        "ps = PorterStemmer()\n",
        "from nltk.corpus import stopwords\n",
        "from nltk.tokenize.treebank import TreebankWordTokenizer\n",
        "tokenizer=TreebankWordTokenizer()"
      ],
      "execution_count": 55,
      "outputs": [
        {
          "output_type": "stream",
          "text": [
            "[nltk_data] Downloading package wordnet to /root/nltk_data...\n",
            "[nltk_data]   Package wordnet is already up-to-date!\n",
            "[nltk_data] Downloading package punkt to /root/nltk_data...\n",
            "[nltk_data]   Package punkt is already up-to-date!\n",
            "[nltk_data] Downloading package stopwords to /root/nltk_data...\n",
            "[nltk_data]   Package stopwords is already up-to-date!\n"
          ],
          "name": "stdout"
        }
      ]
    },
    {
      "cell_type": "code",
      "metadata": {
        "id": "iiKc42kbM8EZ",
        "colab_type": "code",
        "colab": {}
      },
      "source": [
        "from sklearn.feature_extraction.text import TfidfVectorizer\n",
        "from sklearn.feature_extraction.text import CountVectorizer"
      ],
      "execution_count": 0,
      "outputs": []
    },
    {
      "cell_type": "code",
      "metadata": {
        "id": "7ayyL-p_sdUg",
        "colab_type": "code",
        "colab": {}
      },
      "source": [
        "from sklearn.metrics import classification_report, confusion_matrix\n",
        "from sklearn.metrics import accuracy_score,recall_score,precision_score,classification_report, balanced_accuracy_score,f1_score"
      ],
      "execution_count": 0,
      "outputs": []
    },
    {
      "cell_type": "code",
      "metadata": {
        "id": "qGdMbU12sh26",
        "colab_type": "code",
        "colab": {}
      },
      "source": [
        "from sklearn.tree import DecisionTreeClassifier\n",
        "from sklearn.ensemble import RandomForestClassifier\n",
        "from sklearn.naive_bayes import MultinomialNB\n",
        "from sklearn.linear_model import LogisticRegression\n",
        "from sklearn.svm import SVC"
      ],
      "execution_count": 0,
      "outputs": []
    },
    {
      "cell_type": "code",
      "metadata": {
        "id": "3Y2N2JCesqNR",
        "colab_type": "code",
        "colab": {}
      },
      "source": [
        "from sklearn.model_selection import RandomizedSearchCV\n",
        "from sklearn.model_selection import GridSearchCV, cross_val_score"
      ],
      "execution_count": 0,
      "outputs": []
    },
    {
      "cell_type": "code",
      "metadata": {
        "id": "SWC9ngK9sYNC",
        "colab_type": "code",
        "colab": {}
      },
      "source": [
        "from sklearn.model_selection import train_test_split"
      ],
      "execution_count": 0,
      "outputs": []
    },
    {
      "cell_type": "markdown",
      "metadata": {
        "id": "5Ck2flg2NEpV",
        "colab_type": "text"
      },
      "source": [
        "# Data"
      ]
    },
    {
      "cell_type": "code",
      "metadata": {
        "id": "dUzLc6eJNLGO",
        "colab_type": "code",
        "colab": {}
      },
      "source": [
        "train=pd.read_csv(\"train.csv\")\n",
        "test=pd.read_csv(\"test.csv\")\n",
        "train_copy=train.copy()\n",
        "test_copy=test.copy()"
      ],
      "execution_count": 0,
      "outputs": []
    },
    {
      "cell_type": "markdown",
      "metadata": {
        "id": "jleLTaDJDP-o",
        "colab_type": "text"
      },
      "source": [
        "#Visualising Data\n"
      ]
    },
    {
      "cell_type": "markdown",
      "metadata": {
        "id": "VRn9lpKaz2fT",
        "colab_type": "text"
      },
      "source": [
        "id - a unique identifier for each tweet.                      \n",
        "text - the text of the tweet                                 \n",
        "location - the location the tweet was sent from (may be blank)                                                        \n",
        "keyword - a particular keyword from the tweet (may be blank).                                                            \n",
        "target -  this denotes whether a tweet is about a real disaster (1) or not (0)"
      ]
    },
    {
      "cell_type": "code",
      "metadata": {
        "id": "gMC7apS5DRxa",
        "colab_type": "code",
        "outputId": "d8daef51-5549-485a-a2a8-2de7b83dc44c",
        "colab": {
          "base_uri": "https://localhost:8080/",
          "height": 51
        }
      },
      "source": [
        "print(\"train shape :\",train.shape)\n",
        "print(\"test shape :\",test.shape)"
      ],
      "execution_count": 62,
      "outputs": [
        {
          "output_type": "stream",
          "text": [
            "train shape : (7613, 5)\n",
            "test shape : (3263, 4)\n"
          ],
          "name": "stdout"
        }
      ]
    },
    {
      "cell_type": "markdown",
      "metadata": {
        "id": "IETFOJUSGPcw",
        "colab_type": "text"
      },
      "source": [
        "Null values"
      ]
    },
    {
      "cell_type": "code",
      "metadata": {
        "id": "kAqhsd_M0SfO",
        "colab_type": "code",
        "outputId": "173f4fc4-be17-46fa-cca7-cce9196483e7",
        "colab": {
          "base_uri": "https://localhost:8080/",
          "height": 255
        }
      },
      "source": [
        "print(\"null values in train dataset :\\n\",train.isnull().sum())\n",
        "print(\"-----------------\")\n",
        "print(\"null values in test dataset :\\n\",test.isnull().sum())"
      ],
      "execution_count": 63,
      "outputs": [
        {
          "output_type": "stream",
          "text": [
            "null values in train dataset :\n",
            " id             0\n",
            "keyword       61\n",
            "location    2533\n",
            "text           0\n",
            "target         0\n",
            "dtype: int64\n",
            "-----------------\n",
            "null values in test dataset :\n",
            " id             0\n",
            "keyword       26\n",
            "location    1105\n",
            "text           0\n",
            "dtype: int64\n"
          ],
          "name": "stdout"
        }
      ]
    },
    {
      "cell_type": "markdown",
      "metadata": {
        "id": "4Z0r-sz1GDP3",
        "colab_type": "text"
      },
      "source": [
        "Target "
      ]
    },
    {
      "cell_type": "code",
      "metadata": {
        "id": "skyJ-F35FjFe",
        "colab_type": "code",
        "outputId": "e1816096-456a-44d8-960b-9999a00a6a97",
        "colab": {
          "base_uri": "https://localhost:8080/",
          "height": 364
        }
      },
      "source": [
        "print(\"target : 0 = Not a Disaster, 1 = Disaster\")\n",
        "print(train[\"target\"].value_counts())\n",
        "sns.countplot(x=\"target\",data=train,palette='ocean',alpha=0.7)"
      ],
      "execution_count": 64,
      "outputs": [
        {
          "output_type": "stream",
          "text": [
            "target : 0 = Not a Disaster, 1 = Disaster\n",
            "0    4342\n",
            "1    3271\n",
            "Name: target, dtype: int64\n"
          ],
          "name": "stdout"
        },
        {
          "output_type": "execute_result",
          "data": {
            "text/plain": [
              "<matplotlib.axes._subplots.AxesSubplot at 0x7feb42141780>"
            ]
          },
          "metadata": {
            "tags": []
          },
          "execution_count": 64
        },
        {
          "output_type": "display_data",
          "data": {
            "image/png": "[encoded data removed]",
            "text/plain": [
              "<Figure size 432x288 with 1 Axes>"
            ]
          },
          "metadata": {
            "tags": [],
            "needs_background": "light"
          }
        }
      ]
    },
    {
      "cell_type": "markdown",
      "metadata": {
        "id": "6OliSHeRGHNG",
        "colab_type": "text"
      },
      "source": [
        "Keyword"
      ]
    },
    {
      "cell_type": "code",
      "metadata": {
        "id": "2J3FAFmlGI7_",
        "colab_type": "code",
        "outputId": "1969a277-cf1a-4067-8501-1a8a42bbc508",
        "colab": {
          "base_uri": "https://localhost:8080/",
          "height": 51
        }
      },
      "source": [
        "print ('Unique keywords in train: ', train.keyword.nunique())\n",
        "print ('Unique keywords in test: ', test.keyword.nunique())"
      ],
      "execution_count": 65,
      "outputs": [
        {
          "output_type": "stream",
          "text": [
            "Unique keywords in train:  221\n",
            "Unique keywords in test:  221\n"
          ],
          "name": "stdout"
        }
      ]
    },
    {
      "cell_type": "code",
      "metadata": {
        "id": "ijAhRkMhHVEC",
        "colab_type": "code",
        "outputId": "a7925ccf-4d3d-4cf5-ec16-0c364cd46f3d",
        "colab": {
          "base_uri": "https://localhost:8080/",
          "height": 34
        }
      },
      "source": [
        "set_difference = set(train.keyword.unique()) - set(test.keyword.unique())\n",
        "set_difference"
      ],
      "execution_count": 66,
      "outputs": [
        {
          "output_type": "execute_result",
          "data": {
            "text/plain": [
              "set()"
            ]
          },
          "metadata": {
            "tags": []
          },
          "execution_count": 66
        }
      ]
    },
    {
      "cell_type": "markdown",
      "metadata": {
        "id": "4yE8jrJyHfeJ",
        "colab_type": "text"
      },
      "source": [
        "Hence all keywords in the train and test data are the same."
      ]
    },
    {
      "cell_type": "code",
      "metadata": {
        "id": "osrVgBE8O_Yk",
        "colab_type": "code",
        "outputId": "94ab5435-5a9b-4140-d1e1-db574a540d4d",
        "colab": {
          "base_uri": "https://localhost:8080/",
          "height": 400
        }
      },
      "source": [
        "train_key=train.keyword.value_counts()[:10]\n",
        "plt.figure(figsize=(10,5))\n",
        "plt.xticks(rotation=45)\n",
        "plt.title(\"Most frequent keywords in the train dataset\")\n",
        "sns.barplot(train_key.index,train_key.values,palette=\"ocean\",alpha=0.8)"
      ],
      "execution_count": 67,
      "outputs": [
        {
          "output_type": "execute_result",
          "data": {
            "text/plain": [
              "<matplotlib.axes._subplots.AxesSubplot at 0x7feb3b230390>"
            ]
          },
          "metadata": {
            "tags": []
          },
          "execution_count": 67
        },
        {
          "output_type": "display_data",
          "data": {
            "image/png": "[encoded data removed]",
            "text/plain": [
              "<Figure size 720x360 with 1 Axes>"
            ]
          },
          "metadata": {
            "tags": [],
            "needs_background": "light"
          }
        }
      ]
    },
    {
      "cell_type": "code",
      "metadata": {
        "id": "l9qjDmJUTqqJ",
        "colab_type": "code",
        "colab": {}
      },
      "source": [
        "disaster=train.loc[train[\"target\"]==1]\n",
        "not_a_disaster=train.loc[train[\"target\"]==0]"
      ],
      "execution_count": 0,
      "outputs": []
    },
    {
      "cell_type": "code",
      "metadata": {
        "id": "uKmkV4QmTuxM",
        "colab_type": "code",
        "outputId": "44822735-fc21-4483-ee8a-46a1569a5994",
        "colab": {
          "base_uri": "https://localhost:8080/",
          "height": 421
        }
      },
      "source": [
        "disaster_key=disaster.keyword.value_counts()[:10]\n",
        "plt.figure(figsize=(10,5))\n",
        "plt.xticks(rotation=45)\n",
        "plt.title(\"Most frequent keywords for a disaster\")\n",
        "sns.barplot(disaster_key.index,disaster_key.values,palette=\"RdBu_r\")"
      ],
      "execution_count": 69,
      "outputs": [
        {
          "output_type": "execute_result",
          "data": {
            "text/plain": [
              "<matplotlib.axes._subplots.AxesSubplot at 0x7feb3b230128>"
            ]
          },
          "metadata": {
            "tags": []
          },
          "execution_count": 69
        },
        {
          "output_type": "display_data",
          "data": {
            "image/png": "[encoded data removed]",
            "text/plain": [
              "<Figure size 720x360 with 1 Axes>"
            ]
          },
          "metadata": {
            "tags": [],
            "needs_background": "light"
          }
        }
      ]
    },
    {
      "cell_type": "code",
      "metadata": {
        "id": "CGTayRPJUJx1",
        "colab_type": "code",
        "outputId": "477efadf-34cc-499d-b50e-e2d1a9a9a90d",
        "colab": {
          "base_uri": "https://localhost:8080/",
          "height": 400
        }
      },
      "source": [
        "nondisaster_key=not_a_disaster.keyword.value_counts()[:10]\n",
        "plt.figure(figsize=(10,5))\n",
        "plt.xticks(rotation=45)\n",
        "plt.title(\"Most frequent keywords for a disaster\")\n",
        "sns.barplot(nondisaster_key.index,nondisaster_key.values,palette=\"BuGn_r\")"
      ],
      "execution_count": 70,
      "outputs": [
        {
          "output_type": "execute_result",
          "data": {
            "text/plain": [
              "<matplotlib.axes._subplots.AxesSubplot at 0x7feb42179a90>"
            ]
          },
          "metadata": {
            "tags": []
          },
          "execution_count": 70
        },
        {
          "output_type": "display_data",
          "data": {
            "image/png": "[encoded data removed]",
            "text/plain": [
              "<Figure size 720x360 with 1 Axes>"
            ]
          },
          "metadata": {
            "tags": [],
            "needs_background": "light"
          }
        }
      ]
    },
    {
      "cell_type": "markdown",
      "metadata": {
        "id": "-u-m8wHLVxIq",
        "colab_type": "text"
      },
      "source": [
        "Location"
      ]
    },
    {
      "cell_type": "code",
      "metadata": {
        "id": "Rlr8OGw5O8bR",
        "colab_type": "code",
        "outputId": "e7bb947d-4f53-4448-a1ae-237761c62504",
        "colab": {
          "base_uri": "https://localhost:8080/",
          "height": 406
        }
      },
      "source": [
        "disaster_loc=disaster.location.value_counts()[:10]\n",
        "plt.figure(figsize=(10,5))\n",
        "plt.xticks(rotation=45)\n",
        "plt.title(\"Most frequent locations in the disaster dataset\")\n",
        "sns.barplot(disaster_loc.index,disaster_loc.values,palette=\"YlGnBu_r\")"
      ],
      "execution_count": 71,
      "outputs": [
        {
          "output_type": "execute_result",
          "data": {
            "text/plain": [
              "<matplotlib.axes._subplots.AxesSubplot at 0x7feb3b157400>"
            ]
          },
          "metadata": {
            "tags": []
          },
          "execution_count": 71
        },
        {
          "output_type": "display_data",
          "data": {
            "image/png": "[encoded data removed]",
            "text/plain": [
              "<Figure size 720x360 with 1 Axes>"
            ]
          },
          "metadata": {
            "tags": [],
            "needs_background": "light"
          }
        }
      ]
    },
    {
      "cell_type": "code",
      "metadata": {
        "id": "yIX6xSMFWeBB",
        "colab_type": "code",
        "outputId": "f4abd11e-be1d-498f-fbb6-ae27fb18f65d",
        "colab": {
          "base_uri": "https://localhost:8080/",
          "height": 406
        }
      },
      "source": [
        "nondisaster_loc=not_a_disaster.location.value_counts()[:10]\n",
        "plt.figure(figsize=(10,5))\n",
        "plt.xticks(rotation=45)\n",
        "plt.title(\"Most frequent locations in the not_a_disaster dataset\")\n",
        "sns.barplot(nondisaster_loc.index,nondisaster_loc.values,palette=\"ocean\")"
      ],
      "execution_count": 72,
      "outputs": [
        {
          "output_type": "execute_result",
          "data": {
            "text/plain": [
              "<matplotlib.axes._subplots.AxesSubplot at 0x7feb40f577b8>"
            ]
          },
          "metadata": {
            "tags": []
          },
          "execution_count": 72
        },
        {
          "output_type": "display_data",
          "data": {
            "image/png": "[encoded data removed]",
            "text/plain": [
              "<Figure size 720x360 with 1 Axes>"
            ]
          },
          "metadata": {
            "tags": [],
            "needs_background": "light"
          }
        }
      ]
    },
    {
      "cell_type": "markdown",
      "metadata": {
        "id": "t2bWsVmnM-Nh",
        "colab_type": "text"
      },
      "source": [
        "# Data Cleaning"
      ]
    },
    {
      "cell_type": "markdown",
      "metadata": {
        "id": "76FnezhUNWpG",
        "colab_type": "text"
      },
      "source": [
        "Let's fill missing values in train and test data with \" \" for now."
      ]
    },
    {
      "cell_type": "code",
      "metadata": {
        "id": "C2ARMpLFXYm4",
        "colab_type": "code",
        "colab": {}
      },
      "source": [
        "train = train.fillna('')\n",
        "test = test.fillna('')"
      ],
      "execution_count": 0,
      "outputs": []
    },
    {
      "cell_type": "markdown",
      "metadata": {
        "id": "LoIgWHk2NrFL",
        "colab_type": "text"
      },
      "source": [
        "The first round of data cleaning is removing any emojis"
      ]
    },
    {
      "cell_type": "code",
      "metadata": {
        "id": "JZbXpflTX2cx",
        "colab_type": "code",
        "colab": {}
      },
      "source": [
        "def clean1(text):\n",
        "    emoji_pattern = re.compile(\"[\"\n",
        "                           u\"\\U0001F600-\\U0001F64F\"  # emoticons\n",
        "                           u\"\\U0001F300-\\U0001F5FF\"  # symbols & pictographs\n",
        "                           u\"\\U0001F680-\\U0001F6FF\"  # transport & map symbols\n",
        "                           u\"\\U0001F1E0-\\U0001F1FF\"  # flags (iOS)\n",
        "                           u\"\\U00002702-\\U000027B0\"\n",
        "                           u\"\\U000024C2-\\U0001F251\"\n",
        "                           \"]+\", flags=re.UNICODE)\n",
        "    return emoji_pattern.sub(r'', text)"
      ],
      "execution_count": 0,
      "outputs": []
    },
    {
      "cell_type": "code",
      "metadata": {
        "id": "ZiUlgV_-YEOW",
        "colab_type": "code",
        "colab": {}
      },
      "source": [
        "train[\"text\"]=train[\"text\"].apply(lambda x: clean1(x))\n",
        "test[\"text\"]=test[\"text\"].apply(lambda x: clean1(x))"
      ],
      "execution_count": 0,
      "outputs": []
    },
    {
      "cell_type": "markdown",
      "metadata": {
        "id": "5Lb7xHt1aCzd",
        "colab_type": "text"
      },
      "source": [
        "Second round of cleaning is removing links , hashtags and mentions/usernames."
      ]
    },
    {
      "cell_type": "code",
      "metadata": {
        "id": "1Fh6vyb8aUY4",
        "colab_type": "code",
        "colab": {}
      },
      "source": [
        "def clean2(string):\n",
        "  tweet=string.lower()\n",
        "  tweet=re.sub(r\"https?\\S+\",\" \",tweet)\n",
        "  tweet=re.sub(\"#\",\" \",tweet)\n",
        "  tweet=re.sub(r\"^@\\w+\",\" \",tweet)\n",
        "  return tweet"
      ],
      "execution_count": 0,
      "outputs": []
    },
    {
      "cell_type": "code",
      "metadata": {
        "id": "Rv6cvUrcawCF",
        "colab_type": "code",
        "colab": {}
      },
      "source": [
        "train[\"text\"]=train[\"text\"].apply(lambda x: clean2(x))\n",
        "test[\"text\"]=test[\"text\"].apply(lambda x: clean2(x))"
      ],
      "execution_count": 0,
      "outputs": []
    },
    {
      "cell_type": "markdown",
      "metadata": {
        "id": "XlxcKSpjcT_M",
        "colab_type": "text"
      },
      "source": [
        "using the TreeBankWordTokenizer"
      ]
    },
    {
      "cell_type": "code",
      "metadata": {
        "id": "NHGMTcU4cJ96",
        "colab_type": "code",
        "colab": {}
      },
      "source": [
        "train[\"text\"]=train[\"text\"].apply(lambda x: tokenizer.tokenize(x))\n",
        "test[\"text\"]=test[\"text\"].apply(lambda x: tokenizer.tokenize(x))"
      ],
      "execution_count": 0,
      "outputs": []
    },
    {
      "cell_type": "code",
      "metadata": {
        "id": "sfnxEyWbckcV",
        "colab_type": "code",
        "colab": {}
      },
      "source": [
        "def clean3(string):\n",
        "  tweet = ' '.join(string)\n",
        "  tweet=re.sub(\"'s\",\"is\",tweet)\n",
        "  tweet=re.sub(\"n't\",\"not\",tweet)\n",
        "  tweet=re.sub(\"'m\",\"am\",tweet)\n",
        "  return tweet"
      ],
      "execution_count": 0,
      "outputs": []
    },
    {
      "cell_type": "code",
      "metadata": {
        "id": "Zpcx5kF9deYj",
        "colab_type": "code",
        "colab": {}
      },
      "source": [
        "train[\"text\"]=train[\"text\"].apply(lambda x: clean3(x))\n",
        "test[\"text\"]=test[\"text\"].apply(lambda x: clean3(x))"
      ],
      "execution_count": 0,
      "outputs": []
    },
    {
      "cell_type": "markdown",
      "metadata": {
        "id": "VYB_2wP3fJmW",
        "colab_type": "text"
      },
      "source": [
        "Removing further noise in the data"
      ]
    },
    {
      "cell_type": "code",
      "metadata": {
        "id": "RzkiBVCtfMvf",
        "colab_type": "code",
        "colab": {}
      },
      "source": [
        "def clean4(string):\n",
        "  tweet=string\n",
        "  tweet=re.sub(r\"\\W+\",\" \",tweet)\n",
        "  tweet=re.sub(r\"\\d+\",\" \",tweet)\n",
        "  tweet=re.sub(\"_\",\" \",tweet)\n",
        "  tweet=re.sub(r\"\\b\\w\\w\\b\",\" \",tweet)\n",
        "  tweet=re.sub(r\"\\b\\w\\b\",\" \",tweet)\n",
        "  return tweet"
      ],
      "execution_count": 0,
      "outputs": []
    },
    {
      "cell_type": "code",
      "metadata": {
        "id": "yUv3Q1uLfTCc",
        "colab_type": "code",
        "colab": {}
      },
      "source": [
        "train[\"text\"]=train[\"text\"].apply(lambda x: clean4(x))\n",
        "test[\"text\"]=test[\"text\"].apply(lambda x: clean4(x))"
      ],
      "execution_count": 0,
      "outputs": []
    },
    {
      "cell_type": "markdown",
      "metadata": {
        "id": "PMacEkRgiwtv",
        "colab_type": "text"
      },
      "source": [
        "Location"
      ]
    },
    {
      "cell_type": "code",
      "metadata": {
        "id": "YbdNgs-XiyUr",
        "colab_type": "code",
        "colab": {}
      },
      "source": [
        "loc=set(train[\"location\"])"
      ],
      "execution_count": 0,
      "outputs": []
    },
    {
      "cell_type": "markdown",
      "metadata": {
        "id": "JyJBOCarjdMB",
        "colab_type": "text"
      },
      "source": [
        "We will clean all the digits and symbols from the text.\n",
        "We won't lowercase the string as they are location names and it may also help us to differentiate actual locations from noisy data"
      ]
    },
    {
      "cell_type": "code",
      "metadata": {
        "id": "HlevUzwujcfI",
        "colab_type": "code",
        "colab": {}
      },
      "source": [
        "def loc_clean1(string):\n",
        "  location=string\n",
        "  location=re.sub(r\"\\d+\",\" \",location)\n",
        "  location=re.sub(r\"\\W+\",\" \",location)\n",
        "  return location"
      ],
      "execution_count": 0,
      "outputs": []
    },
    {
      "cell_type": "code",
      "metadata": {
        "id": "yS6xEPqAnB6I",
        "colab_type": "code",
        "colab": {}
      },
      "source": [
        "train[\"location\"]=train[\"location\"].apply(lambda x: loc_clean1(x))\n",
        "test[\"location\"]=test[\"location\"].apply(lambda x: loc_clean1(x))"
      ],
      "execution_count": 0,
      "outputs": []
    },
    {
      "cell_type": "markdown",
      "metadata": {
        "id": "OHpumLzeod6_",
        "colab_type": "text"
      },
      "source": [
        "Keywords"
      ]
    },
    {
      "cell_type": "code",
      "metadata": {
        "id": "0OT5Yerrofxc",
        "colab_type": "code",
        "colab": {}
      },
      "source": [
        "key=set(train[\"keyword\"])"
      ],
      "execution_count": 0,
      "outputs": []
    },
    {
      "cell_type": "markdown",
      "metadata": {
        "id": "fQcCIPeQpBC9",
        "colab_type": "text"
      },
      "source": [
        "we apply the same cleaning as location"
      ]
    },
    {
      "cell_type": "code",
      "metadata": {
        "id": "mlyX1-p6pEh3",
        "colab_type": "code",
        "colab": {}
      },
      "source": [
        "train[\"keyword\"]=train[\"keyword\"].apply(lambda x: loc_clean1(x))\n",
        "test[\"keyword\"]=test[\"keyword\"].apply(lambda x: loc_clean1(x))"
      ],
      "execution_count": 0,
      "outputs": []
    },
    {
      "cell_type": "code",
      "metadata": {
        "id": "1ZcMxzo4prqJ",
        "colab_type": "code",
        "colab": {}
      },
      "source": [
        "train[\"data\"] =   train['text'] #train['keyword'] +' '+train['location'] +' '+\n",
        "test[\"data\"] =  test['text'] #test['keyword'] +' '+ test['location'] +' '+"
      ],
      "execution_count": 0,
      "outputs": []
    },
    {
      "cell_type": "markdown",
      "metadata": {
        "id": "xAjFVHPuOOlo",
        "colab_type": "text"
      },
      "source": [
        "We get better accuracy for this model witholding the location and keyword attribute."
      ]
    },
    {
      "cell_type": "markdown",
      "metadata": {
        "id": "LWP_oWPmpZjS",
        "colab_type": "text"
      },
      "source": [
        "#Stemming"
      ]
    },
    {
      "cell_type": "code",
      "metadata": {
        "id": "2VOH8816pbe2",
        "colab_type": "code",
        "outputId": "300114f7-71f8-48bf-ca43-945ba16a69a4",
        "colab": {
          "base_uri": "https://localhost:8080/",
          "height": 54
        }
      },
      "source": [
        "\"\"\"train[\"data\"]=[ps.stem(word) for word in train.data if \n",
        "                     word not in set(stopwords.words('english'))]\n",
        "test[\"data\"]=[ps.stem(word) for word in test.data if \n",
        "                     word not in set(stopwords.words('english'))] \"\"\""
      ],
      "execution_count": 89,
      "outputs": [
        {
          "output_type": "execute_result",
          "data": {
            "text/plain": [
              "'train[\"data\"]=[ps.stem(word) for word in train.data if \\n                     word not in set(stopwords.words(\\'english\\'))]\\ntest[\"data\"]=[ps.stem(word) for word in test.data if \\n                     word not in set(stopwords.words(\\'english\\'))] '"
            ]
          },
          "metadata": {
            "tags": []
          },
          "execution_count": 89
        }
      ]
    },
    {
      "cell_type": "markdown",
      "metadata": {
        "id": "iuaLjUl4qEZK",
        "colab_type": "text"
      },
      "source": [
        "#Lemmatizing"
      ]
    },
    {
      "cell_type": "code",
      "metadata": {
        "id": "9p2uhcQ6qIZH",
        "colab_type": "code",
        "colab": {}
      },
      "source": [
        "train[\"data\"]=[lemmatizer.lemmatize(word) for word in train.data if \n",
        "                     word not in set(stopwords.words('english'))]\n",
        "test[\"data\"]=[lemmatizer.lemmatize(word) for word in test.data if \n",
        "                     word not in set(stopwords.words('english'))]"
      ],
      "execution_count": 0,
      "outputs": []
    },
    {
      "cell_type": "markdown",
      "metadata": {
        "id": "m2yY2NX9Rws9",
        "colab_type": "text"
      },
      "source": [
        "#Vectorizing"
      ]
    },
    {
      "cell_type": "markdown",
      "metadata": {
        "id": "x9JEbgMSSQum",
        "colab_type": "text"
      },
      "source": [
        "**CountVectorizer**"
      ]
    },
    {
      "cell_type": "code",
      "metadata": {
        "id": "gqhUuVQSRcMr",
        "colab_type": "code",
        "colab": {}
      },
      "source": [
        "cv = CountVectorizer(ngram_range = (1,3))\n",
        "text_counts_train= cv.fit_transform(train[\"data\"])\n",
        "text_counts_test= cv.transform(test[\"data\"])"
      ],
      "execution_count": 0,
      "outputs": []
    },
    {
      "cell_type": "code",
      "metadata": {
        "id": "Zkk6REJAql8a",
        "colab_type": "code",
        "colab": {}
      },
      "source": [
        "X=text_counts_train\n",
        "y=train[[\"target\"]]\n",
        "test=text_counts_test"
      ],
      "execution_count": 0,
      "outputs": []
    },
    {
      "cell_type": "markdown",
      "metadata": {
        "id": "5W2-gnB-UQi2",
        "colab_type": "text"
      },
      "source": [
        "**Tf**-**idf** **Vectorizer**"
      ]
    },
    {
      "cell_type": "code",
      "metadata": {
        "id": "ChcPMgGTU_Ot",
        "colab_type": "code",
        "outputId": "5eccdae5-7d41-45cb-d096-37615c971740",
        "colab": {
          "base_uri": "https://localhost:8080/",
          "height": 54
        }
      },
      "source": [
        "\"\"\"tfidf_v=TfidfVectorizer(ngram_range=(1,3))\n",
        "text_tf_train=tfidf_v.fit_transform(train[\"data_train\"])\n",
        "text_tf_test=tfidf_v.transform(test[\"data_train\"])\"\"\""
      ],
      "execution_count": 93,
      "outputs": [
        {
          "output_type": "execute_result",
          "data": {
            "text/plain": [
              "'tfidf_v=TfidfVectorizer(ngram_range=(1,3))\\ntext_tf_train=tfidf_v.fit_transform(train[\"data_train\"])\\ntext_tf_test=tfidf_v.transform(test[\"data_train\"])'"
            ]
          },
          "metadata": {
            "tags": []
          },
          "execution_count": 93
        }
      ]
    },
    {
      "cell_type": "code",
      "metadata": {
        "id": "Xg8376yMWJJg",
        "colab_type": "code",
        "outputId": "2c83b31a-1566-42c0-a619-71e02e2b1154",
        "colab": {
          "base_uri": "https://localhost:8080/",
          "height": 34
        }
      },
      "source": [
        "\"\"\"X_train=text_tf_train\n",
        "y_train=train[[\"target\"]]\n",
        "X_test=text_tf_test \"\"\""
      ],
      "execution_count": 94,
      "outputs": [
        {
          "output_type": "execute_result",
          "data": {
            "text/plain": [
              "'X_train=text_tf_train\\ny_train=train[[\"target\"]]\\nX_test=text_tf_test '"
            ]
          },
          "metadata": {
            "tags": []
          },
          "execution_count": 94
        }
      ]
    },
    {
      "cell_type": "markdown",
      "metadata": {
        "id": "koYgc1JMUxmI",
        "colab_type": "text"
      },
      "source": [
        "#Modelling"
      ]
    },
    {
      "cell_type": "code",
      "metadata": {
        "id": "WGwtqVUqsPA8",
        "colab_type": "code",
        "colab": {}
      },
      "source": [
        "X_train, X_test, y_train, y_test = train_test_split(X, y, test_size=0.33, random_state=9)"
      ],
      "execution_count": 0,
      "outputs": []
    },
    {
      "cell_type": "markdown",
      "metadata": {
        "id": "mv-xjAz6k2VH",
        "colab_type": "text"
      },
      "source": [
        "Logistic Regression"
      ]
    },
    {
      "cell_type": "code",
      "metadata": {
        "id": "wkNSWqg9k2DQ",
        "colab_type": "code",
        "outputId": "b2364de8-2e50-49af-e36b-bf5f6e857f7b",
        "colab": {
          "base_uri": "https://localhost:8080/",
          "height": 34
        }
      },
      "source": [
        "\"\"\"logreg = LogisticRegression()\n",
        "logreg.fit(X_train,y_train)\n",
        "y_pred = logreg.predict(X_test)\"\"\""
      ],
      "execution_count": 96,
      "outputs": [
        {
          "output_type": "execute_result",
          "data": {
            "text/plain": [
              "'logreg = LogisticRegression()\\nlogreg.fit(X_train,y_train)\\ny_pred = logreg.predict(X_test)'"
            ]
          },
          "metadata": {
            "tags": []
          },
          "execution_count": 96
        }
      ]
    },
    {
      "cell_type": "code",
      "metadata": {
        "id": "xE708GJdUbU-",
        "colab_type": "code",
        "colab": {}
      },
      "source": [
        "#pd.DataFrame(confusion_matrix(y_test,y_pred))"
      ],
      "execution_count": 0,
      "outputs": []
    },
    {
      "cell_type": "code",
      "metadata": {
        "id": "Jn4k0zolxaQ2",
        "colab_type": "code",
        "colab": {}
      },
      "source": [
        "#accuracy_score(y_test, y_pred)"
      ],
      "execution_count": 0,
      "outputs": []
    },
    {
      "cell_type": "code",
      "metadata": {
        "id": "eRcL59GT1aI3",
        "colab_type": "code",
        "outputId": "214c3ac8-ebe0-4c49-a32d-c19a78d6e417",
        "colab": {
          "base_uri": "https://localhost:8080/",
          "height": 34
        }
      },
      "source": [
        "\"\"\"logreg.fit(X,y)\n",
        "y_pred = logreg.predict(test)\"\"\""
      ],
      "execution_count": 99,
      "outputs": [
        {
          "output_type": "execute_result",
          "data": {
            "text/plain": [
              "'logreg.fit(X,y)\\ny_pred = logreg.predict(test)'"
            ]
          },
          "metadata": {
            "tags": []
          },
          "execution_count": 99
        }
      ]
    },
    {
      "cell_type": "markdown",
      "metadata": {
        "id": "9XiGjAh63oby",
        "colab_type": "text"
      },
      "source": [
        "Naive Bayes"
      ]
    },
    {
      "cell_type": "code",
      "metadata": {
        "id": "iI2XrLmG3rpV",
        "colab_type": "code",
        "colab": {}
      },
      "source": [
        "clf = MultinomialNB().fit(X,y)\n",
        "y_pred= clf.predict(test)"
      ],
      "execution_count": 0,
      "outputs": []
    },
    {
      "cell_type": "markdown",
      "metadata": {
        "id": "nYIF1ublZCWf",
        "colab_type": "text"
      },
      "source": [
        "# Exporting csv"
      ]
    },
    {
      "cell_type": "code",
      "metadata": {
        "id": "2k8d7C13S6LN",
        "colab_type": "code",
        "colab": {}
      },
      "source": [
        "y_pred=pd.DataFrame(y_pred)\n",
        "y_pred.rename(columns = {0:'target'}, inplace = True)\n",
        "id=test_copy[[\"id\"]]\n",
        "y_pred= pd.concat([id, y_pred], axis=1)\n",
        "y_pred=pd.DataFrame(y_pred)"
      ],
      "execution_count": 0,
      "outputs": []
    },
    {
      "cell_type": "code",
      "metadata": {
        "id": "ARbUv_8R3Hxz",
        "colab_type": "code",
        "colab": {}
      },
      "source": [
        "export_csv=y_pred.to_csv('new7.csv', index=None,header=True)"
      ],
      "execution_count": 0,
      "outputs": []
    }
  ]
}